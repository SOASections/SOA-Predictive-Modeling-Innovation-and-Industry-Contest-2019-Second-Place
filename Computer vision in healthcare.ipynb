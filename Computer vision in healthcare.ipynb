{
 "cells": [
  {
   "cell_type": "markdown",
   "metadata": {},
   "source": [
    "# SOA 2019 Predictive Modeling, Innovation and Industry Contest \n",
    "# Computer Vision in Healthcare\n",
    "\n",
    "## Executive Summary\n",
    "\n",
    "\n",
    "The proposal for the Society of Actuaries (SOA) 2019 Predictive Modeling, Innovation and Industry Contest, is aimed to illustrate the potential of computer vision algorithms in healthcare. The primary objective is to design computer vision algorithms that improve diagnosis accuracy by reducing false positives and false negatives. The current proposal studies the  HAM10000, Human Against Machine 10000, a dermatostopic image database [1]. The objective of the algorithm is to classify images of seven skin conditions, malignant, and non malignant, which include: Actinic Keratoses, Basal cell carcinoma, Benign keratosis, Dermatofibroma, Melanocytic nevi, Melanoma, and Vascular skin lesions. The algorithm presented is based on a Convolutional Neural Network (CNN), with ResNet50 [2] backbone, pre-trained on Imagenet weights and fine tuned with the current data. The winners of the International Skin Imaging Collaboration (ISIC) 2018 challlenge achieved a balanced multiclass accuracy of 88.5% in the competition test set. Unfortunately, the ISIC 2018 leaderboard is not accepting new submissions so we can not replicate the score on the test set. However, we replicated the 5-fold cross-validation score as reported by the winners of the challenge. Our algorithm achieves 67.9% balanced multiclass accuracy using 5-fold cross-validation on ResNet50, using only the 10,015 training samples. This result is similar to the 72.1% to 77.0% 5 fold cross-validation scores of ResNet-50 reported by the competition winners, that used 47,822 training samples. Our proposed algorithm uses only one neural network trained on ResNet50. The winners of the ISIC 2018 challenge used an ensemble of more than five models and external data, which is computationally more expensive [3]. \n",
    "\n",
    "\n",
    "\n",
    "This artificial intelligence tool is aimed primarily for primary care physicians, as they refer to specialist level of care. With a more accurate diagnosis, the use of dermatological care and biopsies may be reduced, reducing overall healthcare costs. The tool could also be used by health insurance companies to validate their diagnosis, aid in the underwritting process and evaluate providers in terms of diagnosis accuracy [4]. This tool is not intended to replace the dermatologist judgment, as an underlying condition may have different risk factors (such as age, gender, progression of the lesion, etc.) that are not captured by these artificial intelligence (AI) tools based on image data only. \n",
    "\n"
   ]
  },
  {
   "cell_type": "markdown",
   "metadata": {},
   "source": [
    "## Introduction"
   ]
  },
  {
   "cell_type": "markdown",
   "metadata": {},
   "source": [
    "\n",
    "Applications of computer vision in healthcare are numerous. Several examples include: X-ray pneumonia detection [5], breast cancer classification [6], skin cancer detection, [7] among others. An example of a start up that leverages this technology is entilic https://www.enlitic.com/. Entilic specializes in helping radiologists interpret X-rays, CT scans and MRI studies, in order to prioritize their work. Entilic claims that it has discovered malignant tumor nodules up to 18 months faster than standard of care.\n",
    "\n",
    "An SOA report (Shang, 2018) highlights the importance of computer vision in insurance applications [4]. In this article, the author presents a solution to a distracted driver problem, using CNNs, and also describes the potential of computer vision in other insurance areas, such as underwritting and healthcare. Our proposal focuses on providing more details of the implementation of computer vision techniques in healthcare. In particular, our proposal focuses on skin cancer detection, but the analysis can be extrapolated to other health conditions. As noted by Shang (2018), medical images can provide richer information for health insurance underwriting and pricing.\n",
    "\n",
    "The jupyter notebook is divided in several sections. First, we will present a brief overview of the technical requirements to run computer vision models. Second, we will provide a descriptive analysis of the HAM10000 dataset. After that we will cover the model set up, and the creation of the training and validation sets using cross-validation. The next step will illustrate the CNN architecture ResNet50, and the selection of the model parameters. A final step will describe the analysis of the results, and the limitations of the analysis. "
   ]
  },
  {
   "cell_type": "markdown",
   "metadata": {},
   "source": [
    "## Problem Definition and Risks\n",
    "\n",
    "\n",
    "Computer vision has a lot of applications in the health insurance marketplace. As noted by Shang, 2018, health insurance is an area where image recognition can provide more insight regarding the risk of individual customers. Physicians can use image recognition for diagnosis and prognosis [4]. In addition to linking doctors’ opinions to insurance pricing, given enough image data and claim experience, medical images such as computed tomography (CT)  images of cancer patients may be used directly as pricing factors to help underwriting and derive risk loading and insurance premium rate [4]. \n",
    "\n",
    "\n",
    "Shang, 2018, also notes the risk of the computer vision models. Regulatory and reputational risk may also occur with the application of image recognition [4]. Image data may not be considered private and thus may be judged inappropriate for determining insurance rate and claim [4]. If an insurance company does not fully explain its methods to customers, regulators and the public, using nonpublic image data could cause reputational incidents [4]. Even if the data are usable, the way they are used to assess risks and determine insurance premium may be questioned [4]. Clients may want to know exactly how the algorithm determines the risk loading for insurance products [4]. Insurers that want to use image recognition technology need to be prepared for explanation and communication [4]. "
   ]
  },
  {
   "cell_type": "markdown",
   "metadata": {},
   "source": [
    "## Technical Details"
   ]
  },
  {
   "cell_type": "markdown",
   "metadata": {},
   "source": [
    "This notebook was created using Jupyter notebook version 5.6.0, and Python 3.7.0. The operating sytem used is Ubuntu 18.04, on a computer using an NVIDIA 2080 GPU card (8GB memory size). For image processing, the use of a solid state hard drive is recommended to speed the training process due to the number of read and write operations involved in the training of computer vision models.\n",
    "\n",
    "This notebook uses a Graphic Processing Unit NVIDIA GPU. Configuration instructions for the deep learning environment are available on the NVIDIA website https://docs.nvidia.com/deeplearning/sdk/cudnn-install/index.html. \n",
    "\n",
    "The Python libraries used for the analysis include: fastai (version 1.0.56.dev0), a machine learning library that includes code for computer vision models, pandas (version 0.24.2), a library for data manipulation, sklearn (version 0.20.2) for selection of the training, validation, and test sets and for calculation of important metrics, cv2 (version 3.4.3), for image processing, and matplotlib (version 3.0.0), for general purpose graphics."
   ]
  },
  {
   "cell_type": "code",
   "execution_count": 1,
   "metadata": {},
   "outputs": [
    {
     "name": "stdout",
     "output_type": "stream",
     "text": [
      "fastai version 1.0.56.dev0\n",
      "Pandas version 0.24.2\n",
      "sklearn version 0.20.2\n",
      "cv2 3.4.3\n",
      "matplotlib 3.0.0\n"
     ]
    }
   ],
   "source": [
    "%reload_ext autoreload\n",
    "%autoreload 2\n",
    "%matplotlib inline\n",
    "\n",
    "import matplotlib.pyplot as plt\n",
    "\n",
    "#Create symbolic link for fastai path - only once\n",
    "#! ln -s /home/username/fastai/fastai\n",
    "\n",
    "\n",
    "#Load libraries\n",
    "import fastai\n",
    "import sklearn\n",
    "\n",
    "from fastai.vision import *\n",
    "import pandas as pd # For data manipulation\n",
    "\n",
    "from fastai.callbacks import *\n",
    "\n",
    "\n",
    "from sklearn.model_selection import train_test_split\n",
    "\n",
    "\n",
    "\n",
    "import cv2\n",
    "import matplotlib \n",
    "\n",
    "print (\"fastai version\", fastai.__version__)\n",
    "print (\"Pandas version\", pd.__version__)\n",
    "print (\"sklearn version\", sklearn.__version__)\n",
    "\n",
    "print (\"cv2\", cv2.__version__)\n",
    "print (\"matplotlib\", matplotlib.__version__)\n",
    "\n",
    "\n",
    "#To handle LaTeX references\n",
    "#https://github.com/Jupyter-contrib/jupyter_nbextensions_configurator\n",
    "#!pip install jupyter_nbextensions_configurator\n",
    "#jupyter nbextensions_configurator enable --user\n",
    "#!pip install jupyter_contrib_nbextensions\n",
    "#!jupyter contrib nbextension install --user"
   ]
  },
  {
   "cell_type": "markdown",
   "metadata": {},
   "source": [
    "## Data Analysis\n",
    "\n",
    "The HAM10000 database (Human Against Machine with 10000 training images), contains 10015 dermatoscopic images which are released as a training set for academic machine learning purposes [1]. The database is publicly available at https://dataverse.harvard.edu/dataset.xhtml?persistentId=doi:10.7910/DVN/DBW86T, and it is released under a Creative Commons Attribution-NonCommercial 4.0 International Public License.\n",
    "\n",
    "The HAM10000 database database contains 10,015 images of skin conditions corresponding to 7,470 unique lesions, whith some lesions having as many as six pictures. We assume that each lesion corresponds to an independent patient. The database includes information for seven diagnosis including: Actinic Keratoses (Solar Keratoses) and Intraepithelial Carcinoma (Bowen’s disease) (akiec) (N=228), Basal cell carcinoma (bcc) (N=327), Benign keratosis (bkl) (N=727), Dermatofibroma (df) (N=73), Melanocytic nevi (nv) (N=5,403), Melanoma (mel) (N=614), and Vascular skin lesions (vasc) (N=98). The average age of the patients in the database is 52 years (standard deviation 16 years) (N = 7,418; 0.70 % missing data) with a minimumm age of 0 months and maximum age of 85 years, and 54% male gender (N = 4,001). The images of the lessions come from fifteen diferent regions, such as lower extremity 21% (N=1,584), back 21% (N= 1,534), trunk 17%(N= 1,269), abdomen 11% (N=822), and others 30% (N=2,261). \n",
    "\n",
    "As can be seen from the frequency counts of the skin conditions, we have an unbalanced classification problem, with the most prevalent diagnosis being Melanocytic nevi (N = 5,403 patients) and the least prevalent diagnosis being Dermatofibroma (N=73 patients)."
   ]
  },
  {
   "cell_type": "markdown",
   "metadata": {},
   "source": [
    "### Data Quality\n",
    "\n",
    "Data was reviewed for consistency according to the Actuarial Standards of Practice (ASOP) 23. The metadata is believed to be adequate for the purposes of this analysis, with a small percentage of missing data in the age field (0.70 % missing data N = 52 patients), and we didn't identify any potential outliers. For the image data, Tschandl, et. al [1] state that they perform manual changes to image histograms to correct for over/under exposure and undesiredcolour shifts. Aditionally, Tschandl, et al [1] also state that more than 50% of lesions have been confirmed by pathology, while the ground truth for the rest of the cases was either follow-up, expert consensus, or confirmation by in-vivo confocal microscopy. Therefore, the data is deemed apropriate for the purposes of this analysis. However, material changes in the data could potentially yield to significant changes in the inference."
   ]
  },
  {
   "cell_type": "markdown",
   "metadata": {},
   "source": [
    "### Load Metadata "
   ]
  },
  {
   "cell_type": "code",
   "execution_count": 2,
   "metadata": {},
   "outputs": [],
   "source": [
    "#Load metadata\n",
    "metadata = pd.read_csv('/home/user/Documents/HAM_Dataset/HAM10000_metadata.csv')"
   ]
  },
  {
   "cell_type": "code",
   "execution_count": 3,
   "metadata": {},
   "outputs": [],
   "source": [
    "#Path to the folder containing the images\n",
    " \n",
    "path_img = '/home/user/Documents/HAM_Dataset/Data/'\n"
   ]
  },
  {
   "cell_type": "code",
   "execution_count": 4,
   "metadata": {},
   "outputs": [
    {
     "data": {
      "text/html": [
       "<div>\n",
       "<style scoped>\n",
       "    .dataframe tbody tr th:only-of-type {\n",
       "        vertical-align: middle;\n",
       "    }\n",
       "\n",
       "    .dataframe tbody tr th {\n",
       "        vertical-align: top;\n",
       "    }\n",
       "\n",
       "    .dataframe thead th {\n",
       "        text-align: right;\n",
       "    }\n",
       "</style>\n",
       "<table border=\"1\" class=\"dataframe\">\n",
       "  <thead>\n",
       "    <tr style=\"text-align: right;\">\n",
       "      <th></th>\n",
       "      <th>lesion_id</th>\n",
       "      <th>image_id</th>\n",
       "      <th>dx</th>\n",
       "      <th>dx_type</th>\n",
       "      <th>age</th>\n",
       "      <th>sex</th>\n",
       "      <th>localization</th>\n",
       "    </tr>\n",
       "  </thead>\n",
       "  <tbody>\n",
       "    <tr>\n",
       "      <th>0</th>\n",
       "      <td>HAM_0000118</td>\n",
       "      <td>ISIC_0027419</td>\n",
       "      <td>bkl</td>\n",
       "      <td>histo</td>\n",
       "      <td>80.0</td>\n",
       "      <td>male</td>\n",
       "      <td>scalp</td>\n",
       "    </tr>\n",
       "    <tr>\n",
       "      <th>1</th>\n",
       "      <td>HAM_0000118</td>\n",
       "      <td>ISIC_0025030</td>\n",
       "      <td>bkl</td>\n",
       "      <td>histo</td>\n",
       "      <td>80.0</td>\n",
       "      <td>male</td>\n",
       "      <td>scalp</td>\n",
       "    </tr>\n",
       "    <tr>\n",
       "      <th>2</th>\n",
       "      <td>HAM_0002730</td>\n",
       "      <td>ISIC_0026769</td>\n",
       "      <td>bkl</td>\n",
       "      <td>histo</td>\n",
       "      <td>80.0</td>\n",
       "      <td>male</td>\n",
       "      <td>scalp</td>\n",
       "    </tr>\n",
       "    <tr>\n",
       "      <th>3</th>\n",
       "      <td>HAM_0002730</td>\n",
       "      <td>ISIC_0025661</td>\n",
       "      <td>bkl</td>\n",
       "      <td>histo</td>\n",
       "      <td>80.0</td>\n",
       "      <td>male</td>\n",
       "      <td>scalp</td>\n",
       "    </tr>\n",
       "    <tr>\n",
       "      <th>4</th>\n",
       "      <td>HAM_0001466</td>\n",
       "      <td>ISIC_0031633</td>\n",
       "      <td>bkl</td>\n",
       "      <td>histo</td>\n",
       "      <td>75.0</td>\n",
       "      <td>male</td>\n",
       "      <td>ear</td>\n",
       "    </tr>\n",
       "  </tbody>\n",
       "</table>\n",
       "</div>"
      ],
      "text/plain": [
       "     lesion_id      image_id   dx dx_type   age   sex localization\n",
       "0  HAM_0000118  ISIC_0027419  bkl   histo  80.0  male        scalp\n",
       "1  HAM_0000118  ISIC_0025030  bkl   histo  80.0  male        scalp\n",
       "2  HAM_0002730  ISIC_0026769  bkl   histo  80.0  male        scalp\n",
       "3  HAM_0002730  ISIC_0025661  bkl   histo  80.0  male        scalp\n",
       "4  HAM_0001466  ISIC_0031633  bkl   histo  75.0  male          ear"
      ]
     },
     "execution_count": 4,
     "metadata": {},
     "output_type": "execute_result"
    }
   ],
   "source": [
    "metadata.head()"
   ]
  },
  {
   "cell_type": "code",
   "execution_count": 5,
   "metadata": {},
   "outputs": [],
   "source": [
    "patient_data = metadata.drop_duplicates(['lesion_id'])"
   ]
  },
  {
   "cell_type": "markdown",
   "metadata": {},
   "source": [
    "### Descriptive analysis of the Data"
   ]
  },
  {
   "cell_type": "code",
   "execution_count": 6,
   "metadata": {},
   "outputs": [
    {
     "data": {
      "text/html": [
       "<div>\n",
       "<style scoped>\n",
       "    .dataframe tbody tr th:only-of-type {\n",
       "        vertical-align: middle;\n",
       "    }\n",
       "\n",
       "    .dataframe tbody tr th {\n",
       "        vertical-align: top;\n",
       "    }\n",
       "\n",
       "    .dataframe thead th {\n",
       "        text-align: right;\n",
       "    }\n",
       "</style>\n",
       "<table border=\"1\" class=\"dataframe\">\n",
       "  <thead>\n",
       "    <tr style=\"text-align: right;\">\n",
       "      <th></th>\n",
       "      <th>lesion_id</th>\n",
       "      <th>image_id</th>\n",
       "      <th>dx</th>\n",
       "      <th>dx_type</th>\n",
       "      <th>age</th>\n",
       "      <th>sex</th>\n",
       "      <th>localization</th>\n",
       "    </tr>\n",
       "  </thead>\n",
       "  <tbody>\n",
       "    <tr>\n",
       "      <th>count</th>\n",
       "      <td>10015</td>\n",
       "      <td>10015</td>\n",
       "      <td>10015</td>\n",
       "      <td>10015</td>\n",
       "      <td>9958.000000</td>\n",
       "      <td>10015</td>\n",
       "      <td>10015</td>\n",
       "    </tr>\n",
       "    <tr>\n",
       "      <th>unique</th>\n",
       "      <td>7470</td>\n",
       "      <td>10015</td>\n",
       "      <td>7</td>\n",
       "      <td>4</td>\n",
       "      <td>NaN</td>\n",
       "      <td>3</td>\n",
       "      <td>15</td>\n",
       "    </tr>\n",
       "    <tr>\n",
       "      <th>top</th>\n",
       "      <td>HAM_0001863</td>\n",
       "      <td>ISIC_0031764</td>\n",
       "      <td>nv</td>\n",
       "      <td>histo</td>\n",
       "      <td>NaN</td>\n",
       "      <td>male</td>\n",
       "      <td>back</td>\n",
       "    </tr>\n",
       "    <tr>\n",
       "      <th>freq</th>\n",
       "      <td>6</td>\n",
       "      <td>1</td>\n",
       "      <td>6705</td>\n",
       "      <td>5340</td>\n",
       "      <td>NaN</td>\n",
       "      <td>5406</td>\n",
       "      <td>2192</td>\n",
       "    </tr>\n",
       "    <tr>\n",
       "      <th>mean</th>\n",
       "      <td>NaN</td>\n",
       "      <td>NaN</td>\n",
       "      <td>NaN</td>\n",
       "      <td>NaN</td>\n",
       "      <td>51.863828</td>\n",
       "      <td>NaN</td>\n",
       "      <td>NaN</td>\n",
       "    </tr>\n",
       "    <tr>\n",
       "      <th>std</th>\n",
       "      <td>NaN</td>\n",
       "      <td>NaN</td>\n",
       "      <td>NaN</td>\n",
       "      <td>NaN</td>\n",
       "      <td>16.968614</td>\n",
       "      <td>NaN</td>\n",
       "      <td>NaN</td>\n",
       "    </tr>\n",
       "    <tr>\n",
       "      <th>min</th>\n",
       "      <td>NaN</td>\n",
       "      <td>NaN</td>\n",
       "      <td>NaN</td>\n",
       "      <td>NaN</td>\n",
       "      <td>0.000000</td>\n",
       "      <td>NaN</td>\n",
       "      <td>NaN</td>\n",
       "    </tr>\n",
       "    <tr>\n",
       "      <th>25%</th>\n",
       "      <td>NaN</td>\n",
       "      <td>NaN</td>\n",
       "      <td>NaN</td>\n",
       "      <td>NaN</td>\n",
       "      <td>40.000000</td>\n",
       "      <td>NaN</td>\n",
       "      <td>NaN</td>\n",
       "    </tr>\n",
       "    <tr>\n",
       "      <th>50%</th>\n",
       "      <td>NaN</td>\n",
       "      <td>NaN</td>\n",
       "      <td>NaN</td>\n",
       "      <td>NaN</td>\n",
       "      <td>50.000000</td>\n",
       "      <td>NaN</td>\n",
       "      <td>NaN</td>\n",
       "    </tr>\n",
       "    <tr>\n",
       "      <th>75%</th>\n",
       "      <td>NaN</td>\n",
       "      <td>NaN</td>\n",
       "      <td>NaN</td>\n",
       "      <td>NaN</td>\n",
       "      <td>65.000000</td>\n",
       "      <td>NaN</td>\n",
       "      <td>NaN</td>\n",
       "    </tr>\n",
       "    <tr>\n",
       "      <th>max</th>\n",
       "      <td>NaN</td>\n",
       "      <td>NaN</td>\n",
       "      <td>NaN</td>\n",
       "      <td>NaN</td>\n",
       "      <td>85.000000</td>\n",
       "      <td>NaN</td>\n",
       "      <td>NaN</td>\n",
       "    </tr>\n",
       "  </tbody>\n",
       "</table>\n",
       "</div>"
      ],
      "text/plain": [
       "          lesion_id      image_id     dx dx_type          age    sex  \\\n",
       "count         10015         10015  10015   10015  9958.000000  10015   \n",
       "unique         7470         10015      7       4          NaN      3   \n",
       "top     HAM_0001863  ISIC_0031764     nv   histo          NaN   male   \n",
       "freq              6             1   6705    5340          NaN   5406   \n",
       "mean            NaN           NaN    NaN     NaN    51.863828    NaN   \n",
       "std             NaN           NaN    NaN     NaN    16.968614    NaN   \n",
       "min             NaN           NaN    NaN     NaN     0.000000    NaN   \n",
       "25%             NaN           NaN    NaN     NaN    40.000000    NaN   \n",
       "50%             NaN           NaN    NaN     NaN    50.000000    NaN   \n",
       "75%             NaN           NaN    NaN     NaN    65.000000    NaN   \n",
       "max             NaN           NaN    NaN     NaN    85.000000    NaN   \n",
       "\n",
       "       localization  \n",
       "count         10015  \n",
       "unique           15  \n",
       "top            back  \n",
       "freq           2192  \n",
       "mean            NaN  \n",
       "std             NaN  \n",
       "min             NaN  \n",
       "25%             NaN  \n",
       "50%             NaN  \n",
       "75%             NaN  \n",
       "max             NaN  "
      ]
     },
     "execution_count": 6,
     "metadata": {},
     "output_type": "execute_result"
    }
   ],
   "source": [
    "metadata.describe(include='all')"
   ]
  },
  {
   "cell_type": "code",
   "execution_count": 7,
   "metadata": {},
   "outputs": [
    {
     "data": {
      "text/html": [
       "<div>\n",
       "<style scoped>\n",
       "    .dataframe tbody tr th:only-of-type {\n",
       "        vertical-align: middle;\n",
       "    }\n",
       "\n",
       "    .dataframe tbody tr th {\n",
       "        vertical-align: top;\n",
       "    }\n",
       "\n",
       "    .dataframe thead th {\n",
       "        text-align: right;\n",
       "    }\n",
       "</style>\n",
       "<table border=\"1\" class=\"dataframe\">\n",
       "  <thead>\n",
       "    <tr style=\"text-align: right;\">\n",
       "      <th></th>\n",
       "      <th>lesion_id</th>\n",
       "      <th>image_id</th>\n",
       "      <th>dx</th>\n",
       "      <th>dx_type</th>\n",
       "      <th>age</th>\n",
       "      <th>sex</th>\n",
       "      <th>localization</th>\n",
       "    </tr>\n",
       "  </thead>\n",
       "  <tbody>\n",
       "    <tr>\n",
       "      <th>count</th>\n",
       "      <td>7470</td>\n",
       "      <td>7470</td>\n",
       "      <td>7470</td>\n",
       "      <td>7470</td>\n",
       "      <td>7418.000000</td>\n",
       "      <td>7470</td>\n",
       "      <td>7470</td>\n",
       "    </tr>\n",
       "    <tr>\n",
       "      <th>unique</th>\n",
       "      <td>7470</td>\n",
       "      <td>7470</td>\n",
       "      <td>7</td>\n",
       "      <td>4</td>\n",
       "      <td>NaN</td>\n",
       "      <td>3</td>\n",
       "      <td>15</td>\n",
       "    </tr>\n",
       "    <tr>\n",
       "      <th>top</th>\n",
       "      <td>HAM_0002673</td>\n",
       "      <td>ISIC_0031764</td>\n",
       "      <td>nv</td>\n",
       "      <td>follow_up</td>\n",
       "      <td>NaN</td>\n",
       "      <td>male</td>\n",
       "      <td>lower extremity</td>\n",
       "    </tr>\n",
       "    <tr>\n",
       "      <th>freq</th>\n",
       "      <td>1</td>\n",
       "      <td>1</td>\n",
       "      <td>5403</td>\n",
       "      <td>3704</td>\n",
       "      <td>NaN</td>\n",
       "      <td>4001</td>\n",
       "      <td>1584</td>\n",
       "    </tr>\n",
       "    <tr>\n",
       "      <th>mean</th>\n",
       "      <td>NaN</td>\n",
       "      <td>NaN</td>\n",
       "      <td>NaN</td>\n",
       "      <td>NaN</td>\n",
       "      <td>51.658803</td>\n",
       "      <td>NaN</td>\n",
       "      <td>NaN</td>\n",
       "    </tr>\n",
       "    <tr>\n",
       "      <th>std</th>\n",
       "      <td>NaN</td>\n",
       "      <td>NaN</td>\n",
       "      <td>NaN</td>\n",
       "      <td>NaN</td>\n",
       "      <td>16.016472</td>\n",
       "      <td>NaN</td>\n",
       "      <td>NaN</td>\n",
       "    </tr>\n",
       "    <tr>\n",
       "      <th>min</th>\n",
       "      <td>NaN</td>\n",
       "      <td>NaN</td>\n",
       "      <td>NaN</td>\n",
       "      <td>NaN</td>\n",
       "      <td>0.000000</td>\n",
       "      <td>NaN</td>\n",
       "      <td>NaN</td>\n",
       "    </tr>\n",
       "    <tr>\n",
       "      <th>25%</th>\n",
       "      <td>NaN</td>\n",
       "      <td>NaN</td>\n",
       "      <td>NaN</td>\n",
       "      <td>NaN</td>\n",
       "      <td>40.000000</td>\n",
       "      <td>NaN</td>\n",
       "      <td>NaN</td>\n",
       "    </tr>\n",
       "    <tr>\n",
       "      <th>50%</th>\n",
       "      <td>NaN</td>\n",
       "      <td>NaN</td>\n",
       "      <td>NaN</td>\n",
       "      <td>NaN</td>\n",
       "      <td>50.000000</td>\n",
       "      <td>NaN</td>\n",
       "      <td>NaN</td>\n",
       "    </tr>\n",
       "    <tr>\n",
       "      <th>75%</th>\n",
       "      <td>NaN</td>\n",
       "      <td>NaN</td>\n",
       "      <td>NaN</td>\n",
       "      <td>NaN</td>\n",
       "      <td>65.000000</td>\n",
       "      <td>NaN</td>\n",
       "      <td>NaN</td>\n",
       "    </tr>\n",
       "    <tr>\n",
       "      <th>max</th>\n",
       "      <td>NaN</td>\n",
       "      <td>NaN</td>\n",
       "      <td>NaN</td>\n",
       "      <td>NaN</td>\n",
       "      <td>85.000000</td>\n",
       "      <td>NaN</td>\n",
       "      <td>NaN</td>\n",
       "    </tr>\n",
       "  </tbody>\n",
       "</table>\n",
       "</div>"
      ],
      "text/plain": [
       "          lesion_id      image_id    dx    dx_type          age   sex  \\\n",
       "count          7470          7470  7470       7470  7418.000000  7470   \n",
       "unique         7470          7470     7          4          NaN     3   \n",
       "top     HAM_0002673  ISIC_0031764    nv  follow_up          NaN  male   \n",
       "freq              1             1  5403       3704          NaN  4001   \n",
       "mean            NaN           NaN   NaN        NaN    51.658803   NaN   \n",
       "std             NaN           NaN   NaN        NaN    16.016472   NaN   \n",
       "min             NaN           NaN   NaN        NaN     0.000000   NaN   \n",
       "25%             NaN           NaN   NaN        NaN    40.000000   NaN   \n",
       "50%             NaN           NaN   NaN        NaN    50.000000   NaN   \n",
       "75%             NaN           NaN   NaN        NaN    65.000000   NaN   \n",
       "max             NaN           NaN   NaN        NaN    85.000000   NaN   \n",
       "\n",
       "           localization  \n",
       "count              7470  \n",
       "unique               15  \n",
       "top     lower extremity  \n",
       "freq               1584  \n",
       "mean                NaN  \n",
       "std                 NaN  \n",
       "min                 NaN  \n",
       "25%                 NaN  \n",
       "50%                 NaN  \n",
       "75%                 NaN  \n",
       "max                 NaN  "
      ]
     },
     "execution_count": 7,
     "metadata": {},
     "output_type": "execute_result"
    }
   ],
   "source": [
    "patient_data.describe(include='all')"
   ]
  },
  {
   "cell_type": "code",
   "execution_count": 8,
   "metadata": {},
   "outputs": [
    {
     "data": {
      "text/plain": [
       "nv       5403\n",
       "bkl       727\n",
       "mel       614\n",
       "bcc       327\n",
       "akiec     228\n",
       "vasc       98\n",
       "df         73\n",
       "Name: dx, dtype: int64"
      ]
     },
     "execution_count": 8,
     "metadata": {},
     "output_type": "execute_result"
    }
   ],
   "source": [
    "patient_data['dx'].value_counts()"
   ]
  },
  {
   "cell_type": "code",
   "execution_count": 9,
   "metadata": {},
   "outputs": [
    {
     "data": {
      "text/plain": [
       "male       4001\n",
       "female     3419\n",
       "unknown      50\n",
       "Name: sex, dtype: int64"
      ]
     },
     "execution_count": 9,
     "metadata": {},
     "output_type": "execute_result"
    }
   ],
   "source": [
    "patient_data['sex'].value_counts()"
   ]
  },
  {
   "cell_type": "code",
   "execution_count": 10,
   "metadata": {},
   "outputs": [
    {
     "data": {
      "text/plain": [
       "lower extremity    1584\n",
       "back               1534\n",
       "trunk              1269\n",
       "abdomen             822\n",
       "upper extremity     776\n",
       "face                470\n",
       "chest               240\n",
       "foot                228\n",
       "unknown             203\n",
       "neck                119\n",
       "scalp                78\n",
       "hand                 64\n",
       "genital              45\n",
       "ear                  35\n",
       "acral                 3\n",
       "Name: localization, dtype: int64"
      ]
     },
     "execution_count": 10,
     "metadata": {},
     "output_type": "execute_result"
    }
   ],
   "source": [
    "patient_data['localization'].value_counts() "
   ]
  },
  {
   "cell_type": "markdown",
   "metadata": {},
   "source": [
    "### Selected Examples of the Skin Conditions \n",
    "\n",
    "Below we present an example image of each of the seven skin conditions studied in this database. The goal of the computer vision algorithm is to predict given an image, which one of the seven skin conditions the image corresponds to."
   ]
  },
  {
   "cell_type": "code",
   "execution_count": 90,
   "metadata": {},
   "outputs": [
    {
     "data": {
      "image/png": "[encoded data removed]",
      "text/plain": [
       "<Figure size 720x720 with 7 Axes>"
      ]
     },
     "metadata": {
      "needs_background": "light"
     },
     "output_type": "display_data"
    }
   ],
   "source": [
    "#Selected Examples of the Lessions\n",
    "#Set path \n",
    "path_img = '/home/user/Documents/HAM_Dataset/Data/'\n",
    "\n",
    "import warnings\n",
    "warnings.filterwarnings(\"ignore\")\n",
    "\n",
    "#function taken from https://www.datacamp.com/community/tutorials/face-detection-python-opencv\n",
    "def convertToRGB(image):\n",
    "    return cv2.cvtColor(image, cv2.COLOR_BGR2RGB)\n",
    "\n",
    "fig = plt.figure(figsize=(10,10))\n",
    "\n",
    "#akiec ISIC_0029417\n",
    "\n",
    "ax1 = fig.add_subplot(331)\n",
    "ax1.set_title('Actinic Keratoses')\n",
    "ax1 = cv2.imread(path_img + 'ISIC_0029417.jpg')\n",
    "ax1 = plt.imshow(convertToRGB(ax1))\n",
    "\n",
    "#bcc ISIC_0028155\n",
    "\n",
    "ax2 = fig.add_subplot(332)\n",
    "ax2.set_title('Basal cell carcinoma')\n",
    "ax2 = cv2.imread(path_img + 'ISIC_0028155.jpg')\n",
    "ax2 = plt.imshow(convertToRGB(ax2))\n",
    "\n",
    "#bkl ISIC_0027419\n",
    "ax3 = fig.add_subplot(333)\n",
    "ax3.set_title('Benign keratosis')\n",
    "ax3 = cv2.imread(path_img + 'ISIC_0027419.jpg')\n",
    "ax3 = plt.imshow(convertToRGB(ax3))\n",
    "\n",
    "#df ISIC_0027008\n",
    "ax4 = fig.add_subplot(334)\n",
    "ax4.set_title('Dermatofibroma')\n",
    "ax4 = cv2.imread(path_img + 'ISIC_0027008.jpg')\n",
    "ax4 = plt.imshow(convertToRGB(ax4))\n",
    "\n",
    "#nv ISIC_0024698\n",
    "ax6 = fig.add_subplot(335)\n",
    "ax6.set_title('Melanocytic nevi')\n",
    "ax6 = cv2.imread(path_img + 'ISIC_0024698.jpg')\n",
    "ax6 = plt.imshow(convertToRGB(ax6))\n",
    "\n",
    "#mel ISIC_0025964\n",
    "ax5 = fig.add_subplot(336)\n",
    "ax5.set_title('Melanoma')\n",
    "ax5 = cv2.imread(path_img + 'ISIC_0025964.jpg')\n",
    "ax5 = plt.imshow(convertToRGB(ax5))\n",
    "\n",
    "#vasc ISIC_0031197\n",
    "ax7 = fig.add_subplot(337)\n",
    "ax7.set_title('Vascular skin lesions')\n",
    "ax7 = cv2.imread(path_img + 'ISIC_0031197.jpg')\n",
    "ax7 = plt.imshow(convertToRGB(ax7))\n",
    "\n",
    "fig.show()"
   ]
  },
  {
   "cell_type": "markdown",
   "metadata": {},
   "source": [
    "## Creation of the training and validation sets"
   ]
  },
  {
   "cell_type": "markdown",
   "metadata": {},
   "source": [
    "The next step in the modeling process is the creation of the training and validation sets. We do that using 5-fold stratified cross validation to get folds that have similar proportions of every diagnosis. Since there are several lesions with repeated pictures, we make sure that no lesions overlap between the train and validation sets. Doing so is called a validation set leakage, and will most likely cause overfitting, as the model will learn to memorize the images of a particular condition and not generalize well in unseen data."
   ]
  },
  {
   "cell_type": "code",
   "execution_count": 12,
   "metadata": {},
   "outputs": [],
   "source": [
    "#Creation of a database by lession id\n",
    "\n",
    "from sklearn.model_selection import StratifiedKFold\n",
    "skf = StratifiedKFold(n_splits=5, random_state=42)\n",
    "\n",
    "lesion_id = pd.DataFrame({'lesion_id':list(metadata['lesion_id'].value_counts().index)})\n",
    "\n",
    "patient_data = metadata.drop_duplicates(['lesion_id'])\n",
    "patient_data = patient_data.reset_index(drop=True)\n",
    "X = patient_data['lesion_id']\n",
    "y = patient_data['dx']\n"
   ]
  },
  {
   "cell_type": "code",
   "execution_count": 13,
   "metadata": {},
   "outputs": [],
   "source": [
    "train_1, train_2, train_3, train_4, train_5 = [patient_data.loc[i[0]] for i in skf.split(X, y)]"
   ]
  },
  {
   "cell_type": "code",
   "execution_count": 14,
   "metadata": {},
   "outputs": [],
   "source": [
    "valid_1, valid_2, valid_3, valid_4, valid_5 = [patient_data.loc[i[1]] for i in skf.split(X, y)]"
   ]
  },
  {
   "cell_type": "code",
   "execution_count": 15,
   "metadata": {},
   "outputs": [],
   "source": [
    "train_1 = train_1.assign(database = \"train\")\n",
    "train_1 = train_1.assign(is_validation = False)\n",
    "valid_1 = valid_1.assign(database = \"validation\")\n",
    "valid_1 = valid_1.assign(is_validation = True)"
   ]
  },
  {
   "cell_type": "code",
   "execution_count": 16,
   "metadata": {},
   "outputs": [],
   "source": [
    "train_2 = train_2.assign(database = \"train\")\n",
    "train_2 = train_2.assign(is_validation = False)\n",
    "valid_2 = valid_2.assign(database = \"validation\")\n",
    "valid_2 = valid_2.assign(is_validation = True)\n",
    "\n",
    "train_3 = train_3.assign(database = \"train\")\n",
    "train_3 = train_3.assign(is_validation = False)\n",
    "valid_3 = valid_3.assign(database = \"validation\")\n",
    "valid_3 = valid_3.assign(is_validation = True)\n",
    "\n",
    "train_4 = train_4.assign(database = \"train\")\n",
    "train_4 = train_4.assign(is_validation = False)\n",
    "valid_4 = valid_4.assign(database = \"validation\")\n",
    "valid_4 = valid_4.assign(is_validation = True)\n",
    "\n",
    "train_5 = train_5.assign(database = \"train\")\n",
    "train_5 = train_5.assign(is_validation = False)\n",
    "valid_5 = valid_5.assign(database = \"validation\")\n",
    "valid_5 = valid_5.assign(is_validation = True)"
   ]
  },
  {
   "cell_type": "code",
   "execution_count": 17,
   "metadata": {},
   "outputs": [],
   "source": [
    "#Concatenate the databases\n",
    "metadata_train_valid = pd.concat([train_1, valid_1]) \n",
    "metadata_train_valid2 = pd.concat([train_2, valid_2])\n",
    "metadata_train_valid3 = pd.concat([train_3, valid_3])\n",
    "metadata_train_valid4 = pd.concat([train_4, valid_4])\n",
    "metadata_train_valid5 = pd.concat([train_5, valid_5])\n"
   ]
  },
  {
   "cell_type": "code",
   "execution_count": 18,
   "metadata": {},
   "outputs": [],
   "source": [
    "metadata_train_valid = pd.merge(metadata, metadata_train_valid[['lesion_id', 'is_validation']], on=['lesion_id'])\n",
    "metadata_train_valid2 = pd.merge(metadata, metadata_train_valid2[['lesion_id', 'is_validation']], on=['lesion_id'])\n",
    "metadata_train_valid3 = pd.merge(metadata, metadata_train_valid3[['lesion_id', 'is_validation']], on=['lesion_id'])\n",
    "metadata_train_valid4 = pd.merge(metadata, metadata_train_valid4[['lesion_id', 'is_validation']], on=['lesion_id'])\n",
    "metadata_train_valid5 = pd.merge(metadata, metadata_train_valid5[['lesion_id', 'is_validation']], on=['lesion_id'])"
   ]
  },
  {
   "cell_type": "code",
   "execution_count": 19,
   "metadata": {},
   "outputs": [
    {
     "data": {
      "text/html": [
       "<div>\n",
       "<style scoped>\n",
       "    .dataframe tbody tr th:only-of-type {\n",
       "        vertical-align: middle;\n",
       "    }\n",
       "\n",
       "    .dataframe tbody tr th {\n",
       "        vertical-align: top;\n",
       "    }\n",
       "\n",
       "    .dataframe thead th {\n",
       "        text-align: right;\n",
       "    }\n",
       "</style>\n",
       "<table border=\"1\" class=\"dataframe\">\n",
       "  <thead>\n",
       "    <tr style=\"text-align: right;\">\n",
       "      <th>is_validation</th>\n",
       "      <th>False</th>\n",
       "      <th>True</th>\n",
       "    </tr>\n",
       "    <tr>\n",
       "      <th>dx</th>\n",
       "      <th></th>\n",
       "      <th></th>\n",
       "    </tr>\n",
       "  </thead>\n",
       "  <tbody>\n",
       "    <tr>\n",
       "      <th>akiec</th>\n",
       "      <td>268</td>\n",
       "      <td>59</td>\n",
       "    </tr>\n",
       "    <tr>\n",
       "      <th>bcc</th>\n",
       "      <td>400</td>\n",
       "      <td>114</td>\n",
       "    </tr>\n",
       "    <tr>\n",
       "      <th>bkl</th>\n",
       "      <td>810</td>\n",
       "      <td>289</td>\n",
       "    </tr>\n",
       "    <tr>\n",
       "      <th>df</th>\n",
       "      <td>88</td>\n",
       "      <td>27</td>\n",
       "    </tr>\n",
       "    <tr>\n",
       "      <th>mel</th>\n",
       "      <td>890</td>\n",
       "      <td>223</td>\n",
       "    </tr>\n",
       "    <tr>\n",
       "      <th>nv</th>\n",
       "      <td>5623</td>\n",
       "      <td>1082</td>\n",
       "    </tr>\n",
       "    <tr>\n",
       "      <th>vasc</th>\n",
       "      <td>105</td>\n",
       "      <td>37</td>\n",
       "    </tr>\n",
       "  </tbody>\n",
       "</table>\n",
       "</div>"
      ],
      "text/plain": [
       "is_validation  False  True \n",
       "dx                         \n",
       "akiec            268     59\n",
       "bcc              400    114\n",
       "bkl              810    289\n",
       "df                88     27\n",
       "mel              890    223\n",
       "nv              5623   1082\n",
       "vasc             105     37"
      ]
     },
     "execution_count": 19,
     "metadata": {},
     "output_type": "execute_result"
    }
   ],
   "source": [
    "pd.crosstab(metadata_train_valid.dx, metadata_train_valid.is_validation) #metadata_train_valid['dx'].value_counts()"
   ]
  },
  {
   "cell_type": "code",
   "execution_count": 20,
   "metadata": {},
   "outputs": [
    {
     "data": {
      "text/html": [
       "<div>\n",
       "<style scoped>\n",
       "    .dataframe tbody tr th:only-of-type {\n",
       "        vertical-align: middle;\n",
       "    }\n",
       "\n",
       "    .dataframe tbody tr th {\n",
       "        vertical-align: top;\n",
       "    }\n",
       "\n",
       "    .dataframe thead th {\n",
       "        text-align: right;\n",
       "    }\n",
       "</style>\n",
       "<table border=\"1\" class=\"dataframe\">\n",
       "  <thead>\n",
       "    <tr style=\"text-align: right;\">\n",
       "      <th>is_validation</th>\n",
       "      <th>False</th>\n",
       "      <th>True</th>\n",
       "    </tr>\n",
       "    <tr>\n",
       "      <th>dx</th>\n",
       "      <th></th>\n",
       "      <th></th>\n",
       "    </tr>\n",
       "  </thead>\n",
       "  <tbody>\n",
       "    <tr>\n",
       "      <th>akiec</th>\n",
       "      <td>262</td>\n",
       "      <td>65</td>\n",
       "    </tr>\n",
       "    <tr>\n",
       "      <th>bcc</th>\n",
       "      <td>396</td>\n",
       "      <td>118</td>\n",
       "    </tr>\n",
       "    <tr>\n",
       "      <th>bkl</th>\n",
       "      <td>914</td>\n",
       "      <td>185</td>\n",
       "    </tr>\n",
       "    <tr>\n",
       "      <th>df</th>\n",
       "      <td>85</td>\n",
       "      <td>30</td>\n",
       "    </tr>\n",
       "    <tr>\n",
       "      <th>mel</th>\n",
       "      <td>847</td>\n",
       "      <td>266</td>\n",
       "    </tr>\n",
       "    <tr>\n",
       "      <th>nv</th>\n",
       "      <td>5624</td>\n",
       "      <td>1081</td>\n",
       "    </tr>\n",
       "    <tr>\n",
       "      <th>vasc</th>\n",
       "      <td>99</td>\n",
       "      <td>43</td>\n",
       "    </tr>\n",
       "  </tbody>\n",
       "</table>\n",
       "</div>"
      ],
      "text/plain": [
       "is_validation  False  True \n",
       "dx                         \n",
       "akiec            262     65\n",
       "bcc              396    118\n",
       "bkl              914    185\n",
       "df                85     30\n",
       "mel              847    266\n",
       "nv              5624   1081\n",
       "vasc              99     43"
      ]
     },
     "execution_count": 20,
     "metadata": {},
     "output_type": "execute_result"
    }
   ],
   "source": [
    "pd.crosstab(metadata_train_valid2.dx, metadata_train_valid2.is_validation) #metadata_train_valid2['dx'].value_counts()"
   ]
  },
  {
   "cell_type": "code",
   "execution_count": 21,
   "metadata": {},
   "outputs": [
    {
     "data": {
      "text/html": [
       "<div>\n",
       "<style scoped>\n",
       "    .dataframe tbody tr th:only-of-type {\n",
       "        vertical-align: middle;\n",
       "    }\n",
       "\n",
       "    .dataframe tbody tr th {\n",
       "        vertical-align: top;\n",
       "    }\n",
       "\n",
       "    .dataframe thead th {\n",
       "        text-align: right;\n",
       "    }\n",
       "</style>\n",
       "<table border=\"1\" class=\"dataframe\">\n",
       "  <thead>\n",
       "    <tr style=\"text-align: right;\">\n",
       "      <th>is_validation</th>\n",
       "      <th>False</th>\n",
       "      <th>True</th>\n",
       "    </tr>\n",
       "    <tr>\n",
       "      <th>dx</th>\n",
       "      <th></th>\n",
       "      <th></th>\n",
       "    </tr>\n",
       "  </thead>\n",
       "  <tbody>\n",
       "    <tr>\n",
       "      <th>akiec</th>\n",
       "      <td>256</td>\n",
       "      <td>71</td>\n",
       "    </tr>\n",
       "    <tr>\n",
       "      <th>bcc</th>\n",
       "      <td>435</td>\n",
       "      <td>79</td>\n",
       "    </tr>\n",
       "    <tr>\n",
       "      <th>bkl</th>\n",
       "      <td>886</td>\n",
       "      <td>213</td>\n",
       "    </tr>\n",
       "    <tr>\n",
       "      <th>df</th>\n",
       "      <td>85</td>\n",
       "      <td>30</td>\n",
       "    </tr>\n",
       "    <tr>\n",
       "      <th>mel</th>\n",
       "      <td>857</td>\n",
       "      <td>256</td>\n",
       "    </tr>\n",
       "    <tr>\n",
       "      <th>nv</th>\n",
       "      <td>5624</td>\n",
       "      <td>1081</td>\n",
       "    </tr>\n",
       "    <tr>\n",
       "      <th>vasc</th>\n",
       "      <td>118</td>\n",
       "      <td>24</td>\n",
       "    </tr>\n",
       "  </tbody>\n",
       "</table>\n",
       "</div>"
      ],
      "text/plain": [
       "is_validation  False  True \n",
       "dx                         \n",
       "akiec            256     71\n",
       "bcc              435     79\n",
       "bkl              886    213\n",
       "df                85     30\n",
       "mel              857    256\n",
       "nv              5624   1081\n",
       "vasc             118     24"
      ]
     },
     "execution_count": 21,
     "metadata": {},
     "output_type": "execute_result"
    }
   ],
   "source": [
    "pd.crosstab(metadata_train_valid3.dx, metadata_train_valid3.is_validation) #metadata_train_valid3['dx'].value_counts()"
   ]
  },
  {
   "cell_type": "code",
   "execution_count": 22,
   "metadata": {},
   "outputs": [
    {
     "data": {
      "text/html": [
       "<div>\n",
       "<style scoped>\n",
       "    .dataframe tbody tr th:only-of-type {\n",
       "        vertical-align: middle;\n",
       "    }\n",
       "\n",
       "    .dataframe tbody tr th {\n",
       "        vertical-align: top;\n",
       "    }\n",
       "\n",
       "    .dataframe thead th {\n",
       "        text-align: right;\n",
       "    }\n",
       "</style>\n",
       "<table border=\"1\" class=\"dataframe\">\n",
       "  <thead>\n",
       "    <tr style=\"text-align: right;\">\n",
       "      <th>is_validation</th>\n",
       "      <th>False</th>\n",
       "      <th>True</th>\n",
       "    </tr>\n",
       "    <tr>\n",
       "      <th>dx</th>\n",
       "      <th></th>\n",
       "      <th></th>\n",
       "    </tr>\n",
       "  </thead>\n",
       "  <tbody>\n",
       "    <tr>\n",
       "      <th>akiec</th>\n",
       "      <td>251</td>\n",
       "      <td>76</td>\n",
       "    </tr>\n",
       "    <tr>\n",
       "      <th>bcc</th>\n",
       "      <td>412</td>\n",
       "      <td>102</td>\n",
       "    </tr>\n",
       "    <tr>\n",
       "      <th>bkl</th>\n",
       "      <td>847</td>\n",
       "      <td>252</td>\n",
       "    </tr>\n",
       "    <tr>\n",
       "      <th>df</th>\n",
       "      <td>101</td>\n",
       "      <td>14</td>\n",
       "    </tr>\n",
       "    <tr>\n",
       "      <th>mel</th>\n",
       "      <td>942</td>\n",
       "      <td>171</td>\n",
       "    </tr>\n",
       "    <tr>\n",
       "      <th>nv</th>\n",
       "      <td>4882</td>\n",
       "      <td>1823</td>\n",
       "    </tr>\n",
       "    <tr>\n",
       "      <th>vasc</th>\n",
       "      <td>123</td>\n",
       "      <td>19</td>\n",
       "    </tr>\n",
       "  </tbody>\n",
       "</table>\n",
       "</div>"
      ],
      "text/plain": [
       "is_validation  False  True \n",
       "dx                         \n",
       "akiec            251     76\n",
       "bcc              412    102\n",
       "bkl              847    252\n",
       "df               101     14\n",
       "mel              942    171\n",
       "nv              4882   1823\n",
       "vasc             123     19"
      ]
     },
     "execution_count": 22,
     "metadata": {},
     "output_type": "execute_result"
    }
   ],
   "source": [
    "pd.crosstab(metadata_train_valid4.dx, metadata_train_valid4.is_validation) # metadata_train_valid4['dx'].value_counts()"
   ]
  },
  {
   "cell_type": "code",
   "execution_count": 23,
   "metadata": {},
   "outputs": [
    {
     "data": {
      "text/html": [
       "<div>\n",
       "<style scoped>\n",
       "    .dataframe tbody tr th:only-of-type {\n",
       "        vertical-align: middle;\n",
       "    }\n",
       "\n",
       "    .dataframe tbody tr th {\n",
       "        vertical-align: top;\n",
       "    }\n",
       "\n",
       "    .dataframe thead th {\n",
       "        text-align: right;\n",
       "    }\n",
       "</style>\n",
       "<table border=\"1\" class=\"dataframe\">\n",
       "  <thead>\n",
       "    <tr style=\"text-align: right;\">\n",
       "      <th>is_validation</th>\n",
       "      <th>False</th>\n",
       "      <th>True</th>\n",
       "    </tr>\n",
       "    <tr>\n",
       "      <th>dx</th>\n",
       "      <th></th>\n",
       "      <th></th>\n",
       "    </tr>\n",
       "  </thead>\n",
       "  <tbody>\n",
       "    <tr>\n",
       "      <th>akiec</th>\n",
       "      <td>271</td>\n",
       "      <td>56</td>\n",
       "    </tr>\n",
       "    <tr>\n",
       "      <th>bcc</th>\n",
       "      <td>413</td>\n",
       "      <td>101</td>\n",
       "    </tr>\n",
       "    <tr>\n",
       "      <th>bkl</th>\n",
       "      <td>939</td>\n",
       "      <td>160</td>\n",
       "    </tr>\n",
       "    <tr>\n",
       "      <th>df</th>\n",
       "      <td>101</td>\n",
       "      <td>14</td>\n",
       "    </tr>\n",
       "    <tr>\n",
       "      <th>mel</th>\n",
       "      <td>916</td>\n",
       "      <td>197</td>\n",
       "    </tr>\n",
       "    <tr>\n",
       "      <th>nv</th>\n",
       "      <td>5067</td>\n",
       "      <td>1638</td>\n",
       "    </tr>\n",
       "    <tr>\n",
       "      <th>vasc</th>\n",
       "      <td>123</td>\n",
       "      <td>19</td>\n",
       "    </tr>\n",
       "  </tbody>\n",
       "</table>\n",
       "</div>"
      ],
      "text/plain": [
       "is_validation  False  True \n",
       "dx                         \n",
       "akiec            271     56\n",
       "bcc              413    101\n",
       "bkl              939    160\n",
       "df               101     14\n",
       "mel              916    197\n",
       "nv              5067   1638\n",
       "vasc             123     19"
      ]
     },
     "execution_count": 23,
     "metadata": {},
     "output_type": "execute_result"
    }
   ],
   "source": [
    "pd.crosstab(metadata_train_valid5.dx, metadata_train_valid5.is_validation) #metadata_train_valid5['dx'].value_counts()"
   ]
  },
  {
   "cell_type": "markdown",
   "metadata": {},
   "source": [
    "## Modeling "
   ]
  },
  {
   "cell_type": "markdown",
   "metadata": {},
   "source": [
    "The training takes place in the fastai library [8], which sits on top of a popular AI library Pytorch. Installation instructions for the fastai library can be found at https://docs.fast.ai/install.html. \n",
    "\n",
    "The architecture selected for the CNN is ResNet50 [2], pre-trained on imagenet weights. ResNet is a popular architecture for training deep neural networks that uses a residual learning framework [2]. We initialize the network weights using Imagenet. Training takes place in two stages, first with image size to 224 * 224, we train only the heads (this is the last part of the network), then we unfreeze the other layers and train the rest of the network.  Original image size is 600 * 450.\n",
    "\n",
    "To train the neural network we need to normalize the data, to do so, we calculate the statistics of the images mean and standard deviation, and use this to normalize the image set."
   ]
  },
  {
   "cell_type": "markdown",
   "metadata": {},
   "source": [
    "## Model parameters\n",
    "\n",
    "Drop out regularization, a method to remove connections to reduce overfitting, was set to 50%.\n",
    "\n",
    "Batch size:  This is the number of images that get processed by the learning process at a time. This depends on the GPU memory. In this case, using an NVIDIA 2080 card we can accomodate 32 images of size 224 * 224.  \n",
    "\n",
    "Loss Function: We optimize the loss function cross entropy loss with weights. To deal with class imbalance we use the inverse of the frequency of each one of the seven skin conditions. This is, the loss function gets penalized more heavily if the prediction of a rare class is wrong. If we don't use a penalized loss function, the network tends to predict the most frequent class.\n",
    "\n",
    "Learning rate: After we create the weights, we also need to find the learning rate. This is one of the most important parameters when training neural networks. We use this by using cyclical learning rates as described in https://arxiv.org/abs/1506.01186.\n",
    "\n",
    "Data augmentation is also a technique to artificially create new data and reduce overfitting. This is availabe in fastai, with the function tfms = get_transforms(flip_vert = True). The transformations applied to the data are: random flip, flip vertical, rotation, zoom, a random lightning and contrast change, and a random symmetric warp.\n",
    "\n",
    "Test time augmentation was used at the end of every fold to improve the accuracy of the predictions. This is accomplished by taking every image, applying transformations, and taking the average of all of the predictions. "
   ]
  },
  {
   "cell_type": "code",
   "execution_count": 24,
   "metadata": {},
   "outputs": [],
   "source": [
    "#Make the training process deterministic \n",
    "#function taken from kernel https://www.kaggle.com/iafoss/hypercolumns-pneumothorax-fastai-0-831-lb\n",
    "\n",
    "SEED = 2019\n",
    "\n",
    "def seed_everything(seed):\n",
    "    random.seed(seed)\n",
    "    os.environ['PYTHONHASHSEED'] = str(seed)\n",
    "    np.random.seed(seed)\n",
    "    torch.manual_seed(seed)\n",
    "    torch.cuda.manual_seed(seed)\n",
    "    torch.backends.cudnn.deterministic = True\n",
    "    #tf.set_random_seed(seed)\n",
    "seed_everything(SEED)\n"
   ]
  },
  {
   "cell_type": "code",
   "execution_count": 25,
   "metadata": {},
   "outputs": [],
   "source": [
    "#Normalization statistics \n",
    "import cv2\n",
    "\n",
    "\n",
    "img_stats = []\n",
    "\n",
    "def open_image(fname):\n",
    "    img = cv2.imread(os.path.join(path_img, fname + '.jpg'))/255\n",
    "    #img = cv2.resize(img, (sz, sz)) / 255\n",
    "    x_tot = img.mean() #image statistics\n",
    "    x2_tot = (img**2).mean()\n",
    "    \n",
    "    return x_tot, x2_tot\n",
    "\n",
    "\n",
    "for fname in metadata['image_id']:\n",
    "    img_stats.append(open_image(fname))\n"
   ]
  },
  {
   "cell_type": "code",
   "execution_count": 26,
   "metadata": {},
   "outputs": [
    {
     "name": "stdout",
     "output_type": "stream",
     "text": [
      "mean: 0.6267264561492303 , std: 0.18320752802569892\n"
     ]
    }
   ],
   "source": [
    "\n",
    "#function taken from https://www.kaggle.com/iafoss/data-repack-and-image-statistics\n",
    "def get_stats(stats): # get dataset statistics \n",
    "    x_tot, x2_tot = 0.0, 0.0\n",
    "    for x, x2 in stats:\n",
    "        x_tot += x\n",
    "        x2_tot += x2\n",
    "    \n",
    "    img_avr =  x_tot/len(stats)\n",
    "    img_std =  np.sqrt(x2_tot/len(stats) - img_avr**2)\n",
    "    print('mean:',img_avr, ', std:', img_std)\n",
    "    \n",
    "    \n",
    "get_stats(img_stats)\n",
    "\n"
   ]
  },
  {
   "cell_type": "markdown",
   "metadata": {},
   "source": [
    "# Fold 1"
   ]
  },
  {
   "cell_type": "code",
   "execution_count": 28,
   "metadata": {},
   "outputs": [],
   "source": [
    "epochs_head = 4\n",
    "epochs_all = 15\n",
    "patience = 3"
   ]
  },
  {
   "cell_type": "code",
   "execution_count": 29,
   "metadata": {},
   "outputs": [],
   "source": [
    "from sklearn.metrics import confusion_matrix\n"
   ]
  },
  {
   "cell_type": "code",
   "execution_count": 30,
   "metadata": {},
   "outputs": [
    {
     "name": "stdout",
     "output_type": "stream",
     "text": [
      "[30.62691131498471, 19.48443579766537, 9.112829845313922, 87.08695652173913, 8.998203054806828, 1.493661446681581, 70.52816901408451]\n"
     ]
    }
   ],
   "source": [
    "#Class weights to deal with class imbalance\n",
    "#New weights - inverse of class frequency\n",
    "\n",
    "sample_size = 10015\n",
    "num_classes = 7\n",
    "\n",
    "\n",
    "w1 = sample_size/(327)\n",
    "w2 = sample_size/(514)\n",
    "w3 = sample_size/(1099)\n",
    "w4 = sample_size/(115)\n",
    "w5 = sample_size/(1113)\n",
    "w6 = sample_size/(6705) \n",
    "w7 = sample_size/(142)\n",
    "\n",
    "\n",
    "weights = [w1, w2, w3, w4, w5, w6, w7]\n",
    "class_weights = torch.FloatTensor(weights).cuda()\n",
    "\n",
    "\n",
    "print(weights)"
   ]
  },
  {
   "cell_type": "code",
   "execution_count": 31,
   "metadata": {},
   "outputs": [],
   "source": [
    "#Increase image size\n",
    "\n",
    "\n",
    "gc.collect()\n",
    "\n",
    "bs = 32 #batch size - depends on the GPU memory and number of GPUs available. For The current GPU we have 2080 with\n",
    "#memory 8GB, we can use bs =16\n",
    "\n",
    "\n",
    "def get_data(metadata_train_valid, bs, size):\n",
    "    stats = ([0.626, 0.626, 0.626], [0.1829, 0.1829, 0.1829])\n",
    "    \n",
    "    data = (ImageList.from_df(metadata_train_valid, path_img, cols='image_id', suffix='.jpg')\n",
    "        .split_from_df(col='is_validation')\n",
    "        .label_from_df(cols='dx')\n",
    "        .transform(size=(size, size), tfms = get_transforms(flip_vert = True))\n",
    "        .databunch(bs=bs)).normalize(stats)\n",
    "    \n",
    "    return data\n",
    "\n",
    "\n",
    "data = get_data(metadata_train_valid, bs, 224)\n",
    "\n",
    "#Define Convolutional Neural Network with backbone resnet50\n",
    "learn = cnn_learner(data, models.resnet50, metrics = [error_rate, accuracy],\n",
    "                   callback_fns=[ShowGraph])\n",
    "\n",
    "learn.loss_func=nn.CrossEntropyLoss(weight=class_weights)\n"
   ]
  },
  {
   "cell_type": "code",
   "execution_count": 32,
   "metadata": {},
   "outputs": [
    {
     "data": {
      "text/html": [],
      "text/plain": [
       "<IPython.core.display.HTML object>"
      ]
     },
     "metadata": {},
     "output_type": "display_data"
    },
    {
     "name": "stdout",
     "output_type": "stream",
     "text": [
      "LR Finder is complete, type {learner_name}.recorder.plot() to see the graph.\n"
     ]
    },
    {
     "data": {
      "image/png": "[encoded data removed]",
      "text/plain": [
       "<Figure size 432x288 with 1 Axes>"
      ]
     },
     "metadata": {
      "needs_background": "light"
     },
     "output_type": "display_data"
    }
   ],
   "source": [
    "#Learn rate finder\n",
    "learn.lr_find()\n",
    "learn.recorder.plot()"
   ]
  },
  {
   "cell_type": "code",
   "execution_count": 33,
   "metadata": {},
   "outputs": [
    {
     "data": {
      "text/html": [
       "Total time: 02:57 <p><table style='width:450px; margin-bottom:10px'>\n",
       "  <tr>\n",
       "    <th>epoch</th>\n",
       "    <th>train_loss</th>\n",
       "    <th>valid_loss</th>\n",
       "    <th>error_rate</th>\n",
       "    <th>accuracy</th>\n",
       "    <th>time</th>\n",
       "  </tr>\n",
       "  <tr>\n",
       "    <th>0</th>\n",
       "    <th>1.495504</th>\n",
       "    <th>1.219684</th>\n",
       "    <th>0.426543</th>\n",
       "    <th>0.573457</th>\n",
       "    <th>00:43</th>\n",
       "  </tr>\n",
       "  <tr>\n",
       "    <th>1</th>\n",
       "    <th>0.939320</th>\n",
       "    <th>0.888996</th>\n",
       "    <th>0.320044</th>\n",
       "    <th>0.679956</th>\n",
       "    <th>00:45</th>\n",
       "  </tr>\n",
       "  <tr>\n",
       "    <th>2</th>\n",
       "    <th>0.816192</th>\n",
       "    <th>0.945954</th>\n",
       "    <th>0.344074</th>\n",
       "    <th>0.655926</th>\n",
       "    <th>00:43</th>\n",
       "  </tr>\n",
       "  <tr>\n",
       "    <th>3</th>\n",
       "    <th>0.704094</th>\n",
       "    <th>0.787698</th>\n",
       "    <th>0.287821</th>\n",
       "    <th>0.712179</th>\n",
       "    <th>00:44</th>\n",
       "  </tr>\n",
       "</table>\n"
      ],
      "text/plain": [
       "<IPython.core.display.HTML object>"
      ]
     },
     "metadata": {},
     "output_type": "display_data"
    },
    {
     "data": {
      "image/png": "[encoded data removed]",
      "text/plain": [
       "<Figure size 432x288 with 1 Axes>"
      ]
     },
     "metadata": {},
     "output_type": "display_data"
    },
    {
     "name": "stdout",
     "output_type": "stream",
     "text": [
      "Better model found at epoch 0 with accuracy value: 0.5734571218490601.\n",
      "Better model found at epoch 1 with accuracy value: 0.679956316947937.\n",
      "Better model found at epoch 3 with accuracy value: 0.7121791243553162.\n"
     ]
    }
   ],
   "source": [
    "#Fit heads\n",
    "seed_everything(SEED)\n",
    "\n",
    "learn.clip_grad(1.0);\n",
    "\n",
    "lr = 1e-3\n",
    "learn.fit_one_cycle(epochs_head, max_lr = lr,   \n",
    "                    callbacks=[SaveModelCallback(learn, monitor='accuracy',\n",
    "                                                 mode='max', name='Best_model_sz224_resnet50_fold1')])"
   ]
  },
  {
   "cell_type": "code",
   "execution_count": 34,
   "metadata": {},
   "outputs": [],
   "source": [
    "learn.load('Best_model_sz224_resnet50_fold1')\n",
    "learn.unfreeze()"
   ]
  },
  {
   "cell_type": "code",
   "execution_count": 35,
   "metadata": {},
   "outputs": [
    {
     "data": {
      "text/html": [],
      "text/plain": [
       "<IPython.core.display.HTML object>"
      ]
     },
     "metadata": {},
     "output_type": "display_data"
    },
    {
     "name": "stdout",
     "output_type": "stream",
     "text": [
      "LR Finder is complete, type {learner_name}.recorder.plot() to see the graph.\n"
     ]
    },
    {
     "data": {
      "image/png": "[encoded data removed]",
      "text/plain": [
       "<Figure size 432x288 with 1 Axes>"
      ]
     },
     "metadata": {
      "needs_background": "light"
     },
     "output_type": "display_data"
    }
   ],
   "source": [
    "learn.lr_find()\n",
    "learn.recorder.plot()"
   ]
  },
  {
   "cell_type": "code",
   "execution_count": 36,
   "metadata": {},
   "outputs": [
    {
     "data": {
      "text/html": [
       "Total time: 14:48 <p><table style='width:450px; margin-bottom:10px'>\n",
       "  <tr>\n",
       "    <th>epoch</th>\n",
       "    <th>train_loss</th>\n",
       "    <th>valid_loss</th>\n",
       "    <th>error_rate</th>\n",
       "    <th>accuracy</th>\n",
       "    <th>time</th>\n",
       "  </tr>\n",
       "  <tr>\n",
       "    <th>0</th>\n",
       "    <th>0.630204</th>\n",
       "    <th>0.839754</th>\n",
       "    <th>0.301475</th>\n",
       "    <th>0.698525</th>\n",
       "    <th>00:59</th>\n",
       "  </tr>\n",
       "  <tr>\n",
       "    <th>1</th>\n",
       "    <th>0.641056</th>\n",
       "    <th>0.834359</th>\n",
       "    <th>0.301475</th>\n",
       "    <th>0.698525</th>\n",
       "    <th>00:59</th>\n",
       "  </tr>\n",
       "  <tr>\n",
       "    <th>2</th>\n",
       "    <th>0.691175</th>\n",
       "    <th>0.804068</th>\n",
       "    <th>0.290005</th>\n",
       "    <th>0.709995</th>\n",
       "    <th>00:59</th>\n",
       "  </tr>\n",
       "  <tr>\n",
       "    <th>3</th>\n",
       "    <th>0.599363</th>\n",
       "    <th>0.784751</th>\n",
       "    <th>0.283452</th>\n",
       "    <th>0.716548</th>\n",
       "    <th>00:58</th>\n",
       "  </tr>\n",
       "  <tr>\n",
       "    <th>4</th>\n",
       "    <th>0.623151</th>\n",
       "    <th>0.802924</th>\n",
       "    <th>0.286729</th>\n",
       "    <th>0.713271</th>\n",
       "    <th>00:58</th>\n",
       "  </tr>\n",
       "  <tr>\n",
       "    <th>5</th>\n",
       "    <th>0.603048</th>\n",
       "    <th>0.836452</th>\n",
       "    <th>0.299290</th>\n",
       "    <th>0.700710</th>\n",
       "    <th>00:58</th>\n",
       "  </tr>\n",
       "  <tr>\n",
       "    <th>6</th>\n",
       "    <th>0.617417</th>\n",
       "    <th>0.847394</th>\n",
       "    <th>0.296013</th>\n",
       "    <th>0.703987</th>\n",
       "    <th>00:58</th>\n",
       "  </tr>\n",
       "  <tr>\n",
       "    <th>7</th>\n",
       "    <th>0.517802</th>\n",
       "    <th>0.794418</th>\n",
       "    <th>0.285636</th>\n",
       "    <th>0.714364</th>\n",
       "    <th>00:58</th>\n",
       "  </tr>\n",
       "  <tr>\n",
       "    <th>8</th>\n",
       "    <th>0.539848</th>\n",
       "    <th>0.791049</th>\n",
       "    <th>0.280721</th>\n",
       "    <th>0.719279</th>\n",
       "    <th>00:58</th>\n",
       "  </tr>\n",
       "  <tr>\n",
       "    <th>9</th>\n",
       "    <th>0.522666</th>\n",
       "    <th>0.799893</th>\n",
       "    <th>0.285090</th>\n",
       "    <th>0.714910</th>\n",
       "    <th>00:58</th>\n",
       "  </tr>\n",
       "  <tr>\n",
       "    <th>10</th>\n",
       "    <th>0.498964</th>\n",
       "    <th>0.768912</th>\n",
       "    <th>0.274713</th>\n",
       "    <th>0.725287</th>\n",
       "    <th>00:58</th>\n",
       "  </tr>\n",
       "  <tr>\n",
       "    <th>11</th>\n",
       "    <th>0.529219</th>\n",
       "    <th>0.753789</th>\n",
       "    <th>0.263790</th>\n",
       "    <th>0.736210</th>\n",
       "    <th>00:58</th>\n",
       "  </tr>\n",
       "  <tr>\n",
       "    <th>12</th>\n",
       "    <th>0.491320</th>\n",
       "    <th>0.781869</th>\n",
       "    <th>0.275806</th>\n",
       "    <th>0.724194</th>\n",
       "    <th>00:58</th>\n",
       "  </tr>\n",
       "  <tr>\n",
       "    <th>13</th>\n",
       "    <th>0.507704</th>\n",
       "    <th>0.774308</th>\n",
       "    <th>0.275259</th>\n",
       "    <th>0.724741</th>\n",
       "    <th>00:58</th>\n",
       "  </tr>\n",
       "  <tr>\n",
       "    <th>14</th>\n",
       "    <th>0.521256</th>\n",
       "    <th>0.808908</th>\n",
       "    <th>0.288913</th>\n",
       "    <th>0.711087</th>\n",
       "    <th>00:58</th>\n",
       "  </tr>\n",
       "</table>\n"
      ],
      "text/plain": [
       "<IPython.core.display.HTML object>"
      ]
     },
     "metadata": {},
     "output_type": "display_data"
    },
    {
     "data": {
      "image/png": "[encoded data removed]",
      "text/plain": [
       "<Figure size 432x288 with 1 Axes>"
      ]
     },
     "metadata": {},
     "output_type": "display_data"
    },
    {
     "name": "stdout",
     "output_type": "stream",
     "text": [
      "Better model found at epoch 0 with accuracy value: 0.6985253691673279.\n",
      "Better model found at epoch 2 with accuracy value: 0.7099945545196533.\n",
      "Better model found at epoch 3 with accuracy value: 0.7165483236312866.\n",
      "Epoch 7: reducing lr to 1.4996633150096014e-06\n",
      "Better model found at epoch 8 with accuracy value: 0.7192791104316711.\n",
      "Better model found at epoch 10 with accuracy value: 0.7252867221832275.\n",
      "Better model found at epoch 11 with accuracy value: 0.7362097501754761.\n"
     ]
    }
   ],
   "source": [
    "learn.fit_one_cycle(epochs_all, max_lr = slice(1e-6, 1e-5), wd=0.05, \n",
    "                    callbacks=[SaveModelCallback(learn, monitor='accuracy',\n",
    "                              mode='max', name='Best_model_sz224_stage2_resnet50_fold1'),\n",
    "                              ReduceLROnPlateauCallback(learn, monitor='accuracy', \n",
    "                              mode='max', patience = patience)])"
   ]
  },
  {
   "cell_type": "code",
   "execution_count": 37,
   "metadata": {},
   "outputs": [
    {
     "name": "stdout",
     "output_type": "stream",
     "text": [
      "1831\n"
     ]
    },
    {
     "data": {
      "text/plain": [
       "True"
      ]
     },
     "execution_count": 37,
     "metadata": {},
     "output_type": "execute_result"
    }
   ],
   "source": [
    "learn.load('Best_model_sz224_stage2_resnet50_fold1')\n",
    "\n",
    "interp1 = ClassificationInterpretation.from_learner(learn)\n",
    "print(interp1.confusion_matrix().sum())\n",
    "\n",
    "losses,idxs = interp1.top_losses()\n",
    "len(data.valid_ds)==len(losses)==len(idxs)\n"
   ]
  },
  {
   "cell_type": "code",
   "execution_count": 38,
   "metadata": {},
   "outputs": [
    {
     "data": {
      "image/png": "[encoded data removed]",
      "text/plain": [
       "<Figure size 432x288 with 1 Axes>"
      ]
     },
     "metadata": {
      "needs_background": "light"
     },
     "output_type": "display_data"
    }
   ],
   "source": [
    "interp1.plot_confusion_matrix()"
   ]
  },
  {
   "cell_type": "code",
   "execution_count": 39,
   "metadata": {},
   "outputs": [
    {
     "data": {
      "text/plain": [
       "0.6537219451416985"
      ]
     },
     "execution_count": 39,
     "metadata": {},
     "output_type": "execute_result"
    }
   ],
   "source": [
    "confusion_matrix1 = interp1.confusion_matrix()\n",
    "\n",
    "FP = confusion_matrix1.sum(axis=0) - np.diag(confusion_matrix1)  \n",
    "FN = confusion_matrix1.sum(axis=1) - np.diag(confusion_matrix1)\n",
    "TP = np.diag(confusion_matrix1)\n",
    "TN = confusion_matrix1.sum() - (FP + FN + TP)\n",
    "\n",
    "# Sensitivity, hit rate, recall, or true positive rate\n",
    "TPR = TP/(TP+FN)\n",
    "\n",
    "TPR.mean()"
   ]
  },
  {
   "cell_type": "code",
   "execution_count": 40,
   "metadata": {},
   "outputs": [
    {
     "data": {
      "text/html": [
       "Total time: 00:44 <p>"
      ],
      "text/plain": [
       "<IPython.core.display.HTML object>"
      ]
     },
     "metadata": {},
     "output_type": "display_data"
    },
    {
     "data": {
      "text/plain": [
       "0.6699866694639852"
      ]
     },
     "execution_count": 40,
     "metadata": {},
     "output_type": "execute_result"
    }
   ],
   "source": [
    "interp1_tta = ClassificationInterpretation.from_learner(learn, tta=True)\n",
    "confusion_matrix1_tta = interp1_tta.confusion_matrix()\n",
    "\n",
    "FP = confusion_matrix1_tta.sum(axis=0) - np.diag(confusion_matrix1_tta)  \n",
    "FN = confusion_matrix1_tta.sum(axis=1) - np.diag(confusion_matrix1_tta)\n",
    "TP = np.diag(confusion_matrix1_tta)\n",
    "TN = confusion_matrix1_tta.sum() - (FP + FN + TP)\n",
    "\n",
    "# Sensitivity, hit rate, recall, or true positive rate\n",
    "TPR = TP/(TP+FN)\n",
    "\n",
    "TPR.mean()\n"
   ]
  },
  {
   "cell_type": "markdown",
   "metadata": {},
   "source": [
    "# Fold 2"
   ]
  },
  {
   "cell_type": "code",
   "execution_count": 41,
   "metadata": {},
   "outputs": [
    {
     "name": "stdout",
     "output_type": "stream",
     "text": [
      "this Learner object self-destroyed - it still exists, but no longer usable\n"
     ]
    }
   ],
   "source": [
    "gc.collect()\n",
    "learn.destroy()\n",
    "seed_everything(SEED)\n",
    "bs = 32\n",
    "data = get_data(metadata_train_valid2, bs, 224)\n",
    "\n",
    "#Define Convolutional Neural Network with backbone resnet50\n",
    "learn = cnn_learner(data, models.resnet50, metrics = [error_rate, accuracy],\n",
    "                   callback_fns=[ShowGraph])\n",
    "\n",
    "learn.loss_func=nn.CrossEntropyLoss(weight=class_weights)\n",
    "\n"
   ]
  },
  {
   "cell_type": "code",
   "execution_count": 42,
   "metadata": {},
   "outputs": [
    {
     "data": {
      "text/html": [],
      "text/plain": [
       "<IPython.core.display.HTML object>"
      ]
     },
     "metadata": {},
     "output_type": "display_data"
    },
    {
     "name": "stdout",
     "output_type": "stream",
     "text": [
      "LR Finder is complete, type {learner_name}.recorder.plot() to see the graph.\n"
     ]
    },
    {
     "data": {
      "image/png": "[encoded data removed]",
      "text/plain": [
       "<Figure size 432x288 with 1 Axes>"
      ]
     },
     "metadata": {
      "needs_background": "light"
     },
     "output_type": "display_data"
    }
   ],
   "source": [
    "#Learn rate finder\n",
    "learn.lr_find()\n",
    "learn.recorder.plot()"
   ]
  },
  {
   "cell_type": "code",
   "execution_count": 43,
   "metadata": {},
   "outputs": [
    {
     "data": {
      "text/html": [
       "Total time: 02:53 <p><table style='width:450px; margin-bottom:10px'>\n",
       "  <tr>\n",
       "    <th>epoch</th>\n",
       "    <th>train_loss</th>\n",
       "    <th>valid_loss</th>\n",
       "    <th>error_rate</th>\n",
       "    <th>accuracy</th>\n",
       "    <th>time</th>\n",
       "  </tr>\n",
       "  <tr>\n",
       "    <th>0</th>\n",
       "    <th>1.467729</th>\n",
       "    <th>1.015799</th>\n",
       "    <th>0.338926</th>\n",
       "    <th>0.661074</th>\n",
       "    <th>00:43</th>\n",
       "  </tr>\n",
       "  <tr>\n",
       "    <th>1</th>\n",
       "    <th>1.024468</th>\n",
       "    <th>0.597618</th>\n",
       "    <th>0.196868</th>\n",
       "    <th>0.803132</th>\n",
       "    <th>00:42</th>\n",
       "  </tr>\n",
       "  <tr>\n",
       "    <th>2</th>\n",
       "    <th>0.833893</th>\n",
       "    <th>0.575928</th>\n",
       "    <th>0.171141</th>\n",
       "    <th>0.828859</th>\n",
       "    <th>00:43</th>\n",
       "  </tr>\n",
       "  <tr>\n",
       "    <th>3</th>\n",
       "    <th>0.671142</th>\n",
       "    <th>0.558927</th>\n",
       "    <th>0.178412</th>\n",
       "    <th>0.821588</th>\n",
       "    <th>00:42</th>\n",
       "  </tr>\n",
       "</table>\n"
      ],
      "text/plain": [
       "<IPython.core.display.HTML object>"
      ]
     },
     "metadata": {},
     "output_type": "display_data"
    },
    {
     "data": {
      "image/png": "[encoded data removed]",
      "text/plain": [
       "<Figure size 432x288 with 1 Axes>"
      ]
     },
     "metadata": {},
     "output_type": "display_data"
    },
    {
     "name": "stdout",
     "output_type": "stream",
     "text": [
      "Better model found at epoch 0 with accuracy value: 0.6610738039016724.\n",
      "Better model found at epoch 1 with accuracy value: 0.8031319975852966.\n",
      "Better model found at epoch 2 with accuracy value: 0.8288590312004089.\n"
     ]
    }
   ],
   "source": [
    "#Fit heads\n",
    "learn.clip_grad(1.0);\n",
    "lr =  1e-3\n",
    "learn.fit_one_cycle(epochs_head, max_lr = lr, \n",
    "                    callbacks=[SaveModelCallback(learn, monitor='accuracy',\n",
    "                                                 mode='max', name='Best_model_sz224_resnet50_fold2')])\n"
   ]
  },
  {
   "cell_type": "code",
   "execution_count": 44,
   "metadata": {},
   "outputs": [],
   "source": [
    "learn.load('Best_model_sz224_resnet50_fold2')\n",
    "learn.unfreeze()"
   ]
  },
  {
   "cell_type": "code",
   "execution_count": 45,
   "metadata": {},
   "outputs": [
    {
     "data": {
      "text/html": [],
      "text/plain": [
       "<IPython.core.display.HTML object>"
      ]
     },
     "metadata": {},
     "output_type": "display_data"
    },
    {
     "name": "stdout",
     "output_type": "stream",
     "text": [
      "LR Finder is complete, type {learner_name}.recorder.plot() to see the graph.\n"
     ]
    },
    {
     "data": {
      "image/png": "[encoded data removed]",
      "text/plain": [
       "<Figure size 432x288 with 1 Axes>"
      ]
     },
     "metadata": {
      "needs_background": "light"
     },
     "output_type": "display_data"
    }
   ],
   "source": [
    "learn.lr_find()\n",
    "learn.recorder.plot()"
   ]
  },
  {
   "cell_type": "code",
   "execution_count": 46,
   "metadata": {},
   "outputs": [
    {
     "data": {
      "text/html": [
       "Total time: 14:33 <p><table style='width:450px; margin-bottom:10px'>\n",
       "  <tr>\n",
       "    <th>epoch</th>\n",
       "    <th>train_loss</th>\n",
       "    <th>valid_loss</th>\n",
       "    <th>error_rate</th>\n",
       "    <th>accuracy</th>\n",
       "    <th>time</th>\n",
       "  </tr>\n",
       "  <tr>\n",
       "    <th>0</th>\n",
       "    <th>0.681718</th>\n",
       "    <th>0.555275</th>\n",
       "    <th>0.166107</th>\n",
       "    <th>0.833893</th>\n",
       "    <th>00:57</th>\n",
       "  </tr>\n",
       "  <tr>\n",
       "    <th>1</th>\n",
       "    <th>0.628009</th>\n",
       "    <th>0.546218</th>\n",
       "    <th>0.167226</th>\n",
       "    <th>0.832774</th>\n",
       "    <th>00:58</th>\n",
       "  </tr>\n",
       "  <tr>\n",
       "    <th>2</th>\n",
       "    <th>0.630218</th>\n",
       "    <th>0.582755</th>\n",
       "    <th>0.176734</th>\n",
       "    <th>0.823266</th>\n",
       "    <th>00:57</th>\n",
       "  </tr>\n",
       "  <tr>\n",
       "    <th>3</th>\n",
       "    <th>0.584994</th>\n",
       "    <th>0.588226</th>\n",
       "    <th>0.185123</th>\n",
       "    <th>0.814877</th>\n",
       "    <th>00:58</th>\n",
       "  </tr>\n",
       "  <tr>\n",
       "    <th>4</th>\n",
       "    <th>0.542188</th>\n",
       "    <th>0.557275</th>\n",
       "    <th>0.187360</th>\n",
       "    <th>0.812640</th>\n",
       "    <th>00:57</th>\n",
       "  </tr>\n",
       "  <tr>\n",
       "    <th>5</th>\n",
       "    <th>0.450436</th>\n",
       "    <th>0.529461</th>\n",
       "    <th>0.167226</th>\n",
       "    <th>0.832774</th>\n",
       "    <th>00:57</th>\n",
       "  </tr>\n",
       "  <tr>\n",
       "    <th>6</th>\n",
       "    <th>0.404708</th>\n",
       "    <th>0.560523</th>\n",
       "    <th>0.166107</th>\n",
       "    <th>0.833893</th>\n",
       "    <th>00:57</th>\n",
       "  </tr>\n",
       "  <tr>\n",
       "    <th>7</th>\n",
       "    <th>0.356681</th>\n",
       "    <th>0.590561</th>\n",
       "    <th>0.184004</th>\n",
       "    <th>0.815996</th>\n",
       "    <th>00:58</th>\n",
       "  </tr>\n",
       "  <tr>\n",
       "    <th>8</th>\n",
       "    <th>0.297416</th>\n",
       "    <th>0.600775</th>\n",
       "    <th>0.163870</th>\n",
       "    <th>0.836130</th>\n",
       "    <th>00:57</th>\n",
       "  </tr>\n",
       "  <tr>\n",
       "    <th>9</th>\n",
       "    <th>0.285370</th>\n",
       "    <th>0.581090</th>\n",
       "    <th>0.157159</th>\n",
       "    <th>0.842841</th>\n",
       "    <th>00:57</th>\n",
       "  </tr>\n",
       "  <tr>\n",
       "    <th>10</th>\n",
       "    <th>0.244933</th>\n",
       "    <th>0.591917</th>\n",
       "    <th>0.154922</th>\n",
       "    <th>0.845078</th>\n",
       "    <th>00:57</th>\n",
       "  </tr>\n",
       "  <tr>\n",
       "    <th>11</th>\n",
       "    <th>0.231776</th>\n",
       "    <th>0.566462</th>\n",
       "    <th>0.152125</th>\n",
       "    <th>0.847875</th>\n",
       "    <th>00:57</th>\n",
       "  </tr>\n",
       "  <tr>\n",
       "    <th>12</th>\n",
       "    <th>0.199275</th>\n",
       "    <th>0.561260</th>\n",
       "    <th>0.146532</th>\n",
       "    <th>0.853468</th>\n",
       "    <th>00:57</th>\n",
       "  </tr>\n",
       "  <tr>\n",
       "    <th>13</th>\n",
       "    <th>0.192746</th>\n",
       "    <th>0.579187</th>\n",
       "    <th>0.151007</th>\n",
       "    <th>0.848993</th>\n",
       "    <th>00:57</th>\n",
       "  </tr>\n",
       "  <tr>\n",
       "    <th>14</th>\n",
       "    <th>0.171276</th>\n",
       "    <th>0.574982</th>\n",
       "    <th>0.153803</th>\n",
       "    <th>0.846197</th>\n",
       "    <th>00:57</th>\n",
       "  </tr>\n",
       "</table>\n"
      ],
      "text/plain": [
       "<IPython.core.display.HTML object>"
      ]
     },
     "metadata": {},
     "output_type": "display_data"
    },
    {
     "data": {
      "image/png": "[encoded data removed]",
      "text/plain": [
       "<Figure size 432x288 with 1 Axes>"
      ]
     },
     "metadata": {},
     "output_type": "display_data"
    },
    {
     "name": "stdout",
     "output_type": "stream",
     "text": [
      "Better model found at epoch 0 with accuracy value: 0.8338926434516907.\n",
      "Epoch 4: reducing lr to 1.9887481084816066e-05\n",
      "Better model found at epoch 8 with accuracy value: 0.8361297249794006.\n",
      "Better model found at epoch 9 with accuracy value: 0.8428411483764648.\n",
      "Better model found at epoch 10 with accuracy value: 0.8450782895088196.\n",
      "Better model found at epoch 11 with accuracy value: 0.8478747010231018.\n",
      "Better model found at epoch 12 with accuracy value: 0.853467583656311.\n"
     ]
    }
   ],
   "source": [
    "learn.fit_one_cycle(epochs_all, max_lr = slice(1e-5, 1e-4), wd=0.05, \n",
    "                    callbacks=[SaveModelCallback(learn, monitor='accuracy',\n",
    "                                                 mode='max', name='Best_model_sz224_stage2_resnet50_fold2'),\n",
    "        ReduceLROnPlateauCallback(learn, monitor='accuracy', mode='max', patience = patience)])"
   ]
  },
  {
   "cell_type": "code",
   "execution_count": 47,
   "metadata": {},
   "outputs": [
    {
     "name": "stdout",
     "output_type": "stream",
     "text": [
      "1788\n"
     ]
    },
    {
     "data": {
      "text/plain": [
       "True"
      ]
     },
     "execution_count": 47,
     "metadata": {},
     "output_type": "execute_result"
    }
   ],
   "source": [
    "learn.load('Best_model_sz224_stage2_resnet50_fold2')\n",
    "\n",
    "interp2 = ClassificationInterpretation.from_learner(learn)\n",
    "print(interp2.confusion_matrix().sum())\n",
    "\n",
    "losses,idxs = interp2.top_losses()\n",
    "len(data.valid_ds)==len(losses)==len(idxs)\n"
   ]
  },
  {
   "cell_type": "code",
   "execution_count": 48,
   "metadata": {},
   "outputs": [
    {
     "data": {
      "text/plain": [
       "0.6378821047093878"
      ]
     },
     "execution_count": 48,
     "metadata": {},
     "output_type": "execute_result"
    }
   ],
   "source": [
    "confusion_matrix2 = interp2.confusion_matrix()\n",
    "\n",
    "\n",
    "FP = confusion_matrix2.sum(axis=0) - np.diag(confusion_matrix2)  \n",
    "FN = confusion_matrix2.sum(axis=1) - np.diag(confusion_matrix2)\n",
    "TP = np.diag(confusion_matrix2)\n",
    "TN = confusion_matrix2.sum() - (FP + FN + TP)\n",
    "\n",
    "# Sensitivity, hit rate, recall, or true positive rate\n",
    "TPR = TP/(TP+FN)\n",
    "\n",
    "\n",
    "TPR.mean()"
   ]
  },
  {
   "cell_type": "code",
   "execution_count": 49,
   "metadata": {},
   "outputs": [
    {
     "data": {
      "text/html": [
       "Total time: 00:42 <p>"
      ],
      "text/plain": [
       "<IPython.core.display.HTML object>"
      ]
     },
     "metadata": {},
     "output_type": "display_data"
    },
    {
     "data": {
      "text/plain": [
       "0.6447937710613377"
      ]
     },
     "execution_count": 49,
     "metadata": {},
     "output_type": "execute_result"
    }
   ],
   "source": [
    "interp2_tta = ClassificationInterpretation.from_learner(learn, tta=True)\n",
    "\n",
    "confusion_matrix2_tta = interp2_tta.confusion_matrix()\n",
    "\n",
    "\n",
    "FP = confusion_matrix2_tta.sum(axis=0) - np.diag(confusion_matrix2_tta)  \n",
    "FN = confusion_matrix2_tta.sum(axis=1) - np.diag(confusion_matrix2_tta)\n",
    "TP = np.diag(confusion_matrix2_tta)\n",
    "TN = confusion_matrix2_tta.sum() - (FP + FN + TP)\n",
    "\n",
    "# Sensitivity, hit rate, recall, or true positive rate\n",
    "TPR = TP/(TP+FN)\n",
    "\n",
    "\n",
    "TPR.mean()"
   ]
  },
  {
   "cell_type": "markdown",
   "metadata": {},
   "source": [
    "# Fold 3"
   ]
  },
  {
   "cell_type": "code",
   "execution_count": 50,
   "metadata": {},
   "outputs": [
    {
     "name": "stdout",
     "output_type": "stream",
     "text": [
      "this Learner object self-destroyed - it still exists, but no longer usable\n"
     ]
    }
   ],
   "source": [
    "gc.collect()\n",
    "learn.destroy()\n",
    "seed_everything(SEED)\n",
    "bs = 32\n",
    "data = get_data(metadata_train_valid3, bs, 224)\n",
    "\n",
    "#Define Convolutional Neural Network with backbone resnet50\n",
    "learn = cnn_learner(data, models.resnet50, metrics = [error_rate, accuracy],\n",
    "                   callback_fns=[ShowGraph])\n",
    "\n",
    "learn.loss_func=nn.CrossEntropyLoss(weight=class_weights)\n"
   ]
  },
  {
   "cell_type": "code",
   "execution_count": 51,
   "metadata": {},
   "outputs": [
    {
     "data": {
      "text/html": [],
      "text/plain": [
       "<IPython.core.display.HTML object>"
      ]
     },
     "metadata": {},
     "output_type": "display_data"
    },
    {
     "name": "stdout",
     "output_type": "stream",
     "text": [
      "LR Finder is complete, type {learner_name}.recorder.plot() to see the graph.\n"
     ]
    },
    {
     "data": {
      "image/png": "[encoded data removed]",
      "text/plain": [
       "<Figure size 432x288 with 1 Axes>"
      ]
     },
     "metadata": {
      "needs_background": "light"
     },
     "output_type": "display_data"
    }
   ],
   "source": [
    "#Learn rate finder\n",
    "learn.lr_find()\n",
    "learn.recorder.plot()"
   ]
  },
  {
   "cell_type": "code",
   "execution_count": 52,
   "metadata": {},
   "outputs": [
    {
     "data": {
      "text/html": [
       "Total time: 02:54 <p><table style='width:450px; margin-bottom:10px'>\n",
       "  <tr>\n",
       "    <th>epoch</th>\n",
       "    <th>train_loss</th>\n",
       "    <th>valid_loss</th>\n",
       "    <th>error_rate</th>\n",
       "    <th>accuracy</th>\n",
       "    <th>time</th>\n",
       "  </tr>\n",
       "  <tr>\n",
       "    <th>0</th>\n",
       "    <th>1.590884</th>\n",
       "    <th>0.870534</th>\n",
       "    <th>0.293615</th>\n",
       "    <th>0.706385</th>\n",
       "    <th>00:43</th>\n",
       "  </tr>\n",
       "  <tr>\n",
       "    <th>1</th>\n",
       "    <th>1.025691</th>\n",
       "    <th>0.460051</th>\n",
       "    <th>0.157925</th>\n",
       "    <th>0.842075</th>\n",
       "    <th>00:43</th>\n",
       "  </tr>\n",
       "  <tr>\n",
       "    <th>2</th>\n",
       "    <th>0.819632</th>\n",
       "    <th>0.441824</th>\n",
       "    <th>0.149373</th>\n",
       "    <th>0.850627</th>\n",
       "    <th>00:43</th>\n",
       "  </tr>\n",
       "  <tr>\n",
       "    <th>3</th>\n",
       "    <th>0.694179</th>\n",
       "    <th>0.444519</th>\n",
       "    <th>0.153934</th>\n",
       "    <th>0.846066</th>\n",
       "    <th>00:42</th>\n",
       "  </tr>\n",
       "</table>\n"
      ],
      "text/plain": [
       "<IPython.core.display.HTML object>"
      ]
     },
     "metadata": {},
     "output_type": "display_data"
    },
    {
     "data": {
      "image/png": "[encoded data removed]",
      "text/plain": [
       "<Figure size 432x288 with 1 Axes>"
      ]
     },
     "metadata": {},
     "output_type": "display_data"
    },
    {
     "name": "stdout",
     "output_type": "stream",
     "text": [
      "Better model found at epoch 0 with accuracy value: 0.7063854336738586.\n",
      "Better model found at epoch 1 with accuracy value: 0.8420752286911011.\n",
      "Better model found at epoch 2 with accuracy value: 0.8506271243095398.\n"
     ]
    }
   ],
   "source": [
    "#Fit heads\n",
    "learn.clip_grad(1.0);\n",
    "lr= 1e-3\n",
    "learn.fit_one_cycle(epochs_head,  max_lr = lr, \n",
    "                    callbacks=[SaveModelCallback(learn, monitor='accuracy',\n",
    "                                                 mode='max', name='Best_model_sz224_resnet50_fold3')])"
   ]
  },
  {
   "cell_type": "code",
   "execution_count": 53,
   "metadata": {},
   "outputs": [],
   "source": [
    "learn.load('Best_model_sz224_resnet50_fold3')\n",
    "\n",
    "learn.unfreeze()"
   ]
  },
  {
   "cell_type": "code",
   "execution_count": 54,
   "metadata": {},
   "outputs": [
    {
     "data": {
      "text/html": [],
      "text/plain": [
       "<IPython.core.display.HTML object>"
      ]
     },
     "metadata": {},
     "output_type": "display_data"
    },
    {
     "name": "stdout",
     "output_type": "stream",
     "text": [
      "LR Finder is complete, type {learner_name}.recorder.plot() to see the graph.\n"
     ]
    },
    {
     "data": {
      "image/png": "[encoded data removed]",
      "text/plain": [
       "<Figure size 432x288 with 1 Axes>"
      ]
     },
     "metadata": {
      "needs_background": "light"
     },
     "output_type": "display_data"
    }
   ],
   "source": [
    "learn.lr_find()\n",
    "learn.recorder.plot()"
   ]
  },
  {
   "cell_type": "code",
   "execution_count": 55,
   "metadata": {},
   "outputs": [
    {
     "data": {
      "text/html": [
       "Total time: 14:41 <p><table style='width:450px; margin-bottom:10px'>\n",
       "  <tr>\n",
       "    <th>epoch</th>\n",
       "    <th>train_loss</th>\n",
       "    <th>valid_loss</th>\n",
       "    <th>error_rate</th>\n",
       "    <th>accuracy</th>\n",
       "    <th>time</th>\n",
       "  </tr>\n",
       "  <tr>\n",
       "    <th>0</th>\n",
       "    <th>0.717923</th>\n",
       "    <th>0.437675</th>\n",
       "    <th>0.150513</th>\n",
       "    <th>0.849487</th>\n",
       "    <th>00:58</th>\n",
       "  </tr>\n",
       "  <tr>\n",
       "    <th>1</th>\n",
       "    <th>0.708005</th>\n",
       "    <th>0.433533</th>\n",
       "    <th>0.148803</th>\n",
       "    <th>0.851197</th>\n",
       "    <th>00:57</th>\n",
       "  </tr>\n",
       "  <tr>\n",
       "    <th>2</th>\n",
       "    <th>0.610181</th>\n",
       "    <th>0.408890</th>\n",
       "    <th>0.129418</th>\n",
       "    <th>0.870582</th>\n",
       "    <th>00:58</th>\n",
       "  </tr>\n",
       "  <tr>\n",
       "    <th>3</th>\n",
       "    <th>0.587448</th>\n",
       "    <th>0.432712</th>\n",
       "    <th>0.146522</th>\n",
       "    <th>0.853478</th>\n",
       "    <th>00:57</th>\n",
       "  </tr>\n",
       "  <tr>\n",
       "    <th>4</th>\n",
       "    <th>0.597028</th>\n",
       "    <th>0.429640</th>\n",
       "    <th>0.139681</th>\n",
       "    <th>0.860319</th>\n",
       "    <th>00:58</th>\n",
       "  </tr>\n",
       "  <tr>\n",
       "    <th>5</th>\n",
       "    <th>0.495178</th>\n",
       "    <th>0.450995</th>\n",
       "    <th>0.137400</th>\n",
       "    <th>0.862600</th>\n",
       "    <th>00:57</th>\n",
       "  </tr>\n",
       "  <tr>\n",
       "    <th>6</th>\n",
       "    <th>0.447768</th>\n",
       "    <th>0.458231</th>\n",
       "    <th>0.136260</th>\n",
       "    <th>0.863740</th>\n",
       "    <th>00:57</th>\n",
       "  </tr>\n",
       "  <tr>\n",
       "    <th>7</th>\n",
       "    <th>0.339780</th>\n",
       "    <th>0.465034</th>\n",
       "    <th>0.135120</th>\n",
       "    <th>0.864880</th>\n",
       "    <th>00:59</th>\n",
       "  </tr>\n",
       "  <tr>\n",
       "    <th>8</th>\n",
       "    <th>0.306543</th>\n",
       "    <th>0.458970</th>\n",
       "    <th>0.140251</th>\n",
       "    <th>0.859749</th>\n",
       "    <th>00:59</th>\n",
       "  </tr>\n",
       "  <tr>\n",
       "    <th>9</th>\n",
       "    <th>0.254653</th>\n",
       "    <th>0.519076</th>\n",
       "    <th>0.144242</th>\n",
       "    <th>0.855758</th>\n",
       "    <th>00:59</th>\n",
       "  </tr>\n",
       "  <tr>\n",
       "    <th>10</th>\n",
       "    <th>0.278268</th>\n",
       "    <th>0.475927</th>\n",
       "    <th>0.131129</th>\n",
       "    <th>0.868871</th>\n",
       "    <th>00:58</th>\n",
       "  </tr>\n",
       "  <tr>\n",
       "    <th>11</th>\n",
       "    <th>0.231285</th>\n",
       "    <th>0.444155</th>\n",
       "    <th>0.127138</th>\n",
       "    <th>0.872862</th>\n",
       "    <th>00:58</th>\n",
       "  </tr>\n",
       "  <tr>\n",
       "    <th>12</th>\n",
       "    <th>0.209446</th>\n",
       "    <th>0.465456</th>\n",
       "    <th>0.130559</th>\n",
       "    <th>0.869441</th>\n",
       "    <th>00:58</th>\n",
       "  </tr>\n",
       "  <tr>\n",
       "    <th>13</th>\n",
       "    <th>0.213950</th>\n",
       "    <th>0.461254</th>\n",
       "    <th>0.127708</th>\n",
       "    <th>0.872292</th>\n",
       "    <th>00:58</th>\n",
       "  </tr>\n",
       "  <tr>\n",
       "    <th>14</th>\n",
       "    <th>0.183432</th>\n",
       "    <th>0.463150</th>\n",
       "    <th>0.127138</th>\n",
       "    <th>0.872862</th>\n",
       "    <th>00:59</th>\n",
       "  </tr>\n",
       "</table>\n"
      ],
      "text/plain": [
       "<IPython.core.display.HTML object>"
      ]
     },
     "metadata": {},
     "output_type": "display_data"
    },
    {
     "data": {
      "image/png": "[encoded data removed]",
      "text/plain": [
       "<Figure size 432x288 with 1 Axes>"
      ]
     },
     "metadata": {},
     "output_type": "display_data"
    },
    {
     "name": "stdout",
     "output_type": "stream",
     "text": [
      "Better model found at epoch 0 with accuracy value: 0.8494868874549866.\n",
      "Better model found at epoch 1 with accuracy value: 0.8511972427368164.\n",
      "Better model found at epoch 2 with accuracy value: 0.8705815076828003.\n",
      "Epoch 6: reducing lr to 1.7330529396223397e-05\n",
      "Epoch 10: reducing lr to 6.346644369977027e-06\n",
      "Better model found at epoch 11 with accuracy value: 0.8728620409965515.\n"
     ]
    }
   ],
   "source": [
    "learn.fit_one_cycle(epochs_all, max_lr = slice(1e-5, 1e-4), \n",
    "                    callbacks=[SaveModelCallback(learn, monitor='accuracy',\n",
    "                                                 mode='max', name='Best_model_sz224_stage2_resnet50_fold3'),\n",
    "                              ReduceLROnPlateauCallback(learn, monitor='accuracy', mode='max', patience = patience)])\n"
   ]
  },
  {
   "cell_type": "code",
   "execution_count": 56,
   "metadata": {},
   "outputs": [
    {
     "name": "stdout",
     "output_type": "stream",
     "text": [
      "1754\n"
     ]
    },
    {
     "data": {
      "text/plain": [
       "True"
      ]
     },
     "execution_count": 56,
     "metadata": {},
     "output_type": "execute_result"
    }
   ],
   "source": [
    "learn.load('Best_model_sz224_stage2_resnet50_fold3')\n",
    "\n",
    "interp3 = ClassificationInterpretation.from_learner(learn)\n",
    "print(interp3.confusion_matrix().sum())\n",
    "\n",
    "losses,idxs = interp3.top_losses()\n",
    "len(data.valid_ds)==len(losses)==len(idxs)\n",
    "\n"
   ]
  },
  {
   "cell_type": "code",
   "execution_count": 57,
   "metadata": {},
   "outputs": [
    {
     "data": {
      "text/plain": [
       "0.7765075886881279"
      ]
     },
     "execution_count": 57,
     "metadata": {},
     "output_type": "execute_result"
    }
   ],
   "source": [
    "\n",
    "confusion_matrix3 = interp3.confusion_matrix()\n",
    "\n",
    "\n",
    "FP = confusion_matrix3.sum(axis=0) - np.diag(confusion_matrix3)  \n",
    "FN = confusion_matrix3.sum(axis=1) - np.diag(confusion_matrix3)\n",
    "TP = np.diag(confusion_matrix3)\n",
    "TN = confusion_matrix3.sum() - (FP + FN + TP)\n",
    "\n",
    "# Sensitivity, hit rate, recall, or true positive rate\n",
    "TPR = TP/(TP+FN)\n",
    "\n",
    "\n",
    "TPR.mean()"
   ]
  },
  {
   "cell_type": "code",
   "execution_count": 58,
   "metadata": {},
   "outputs": [
    {
     "data": {
      "text/html": [
       "Total time: 00:41 <p>"
      ],
      "text/plain": [
       "<IPython.core.display.HTML object>"
      ]
     },
     "metadata": {},
     "output_type": "display_data"
    },
    {
     "data": {
      "text/plain": [
       "0.7898711317061807"
      ]
     },
     "execution_count": 58,
     "metadata": {},
     "output_type": "execute_result"
    }
   ],
   "source": [
    "interp3_tta = ClassificationInterpretation.from_learner(learn, tta=True)\n",
    "\n",
    "\n",
    "confusion_matrix3_tta = interp3_tta.confusion_matrix()\n",
    "\n",
    "\n",
    "FP = confusion_matrix3_tta.sum(axis=0) - np.diag(confusion_matrix3_tta)  \n",
    "FN = confusion_matrix3_tta.sum(axis=1) - np.diag(confusion_matrix3_tta)\n",
    "TP = np.diag(confusion_matrix3_tta)\n",
    "TN = confusion_matrix3_tta.sum() - (FP + FN + TP)\n",
    "\n",
    "# Sensitivity, hit rate, recall, or true positive rate\n",
    "TPR = TP/(TP+FN)\n",
    "\n",
    "\n",
    "TPR.mean()"
   ]
  },
  {
   "cell_type": "markdown",
   "metadata": {},
   "source": [
    "# Fold 4"
   ]
  },
  {
   "cell_type": "code",
   "execution_count": 59,
   "metadata": {},
   "outputs": [
    {
     "name": "stdout",
     "output_type": "stream",
     "text": [
      "this Learner object self-destroyed - it still exists, but no longer usable\n"
     ]
    }
   ],
   "source": [
    "gc.collect()\n",
    "learn.destroy()\n",
    "seed_everything(SEED)\n",
    "bs = 32\n",
    "data = get_data(metadata_train_valid4, bs, 224)\n",
    "\n",
    "#Define Convolutional Neural Network with backbone resnet50\n",
    "learn = cnn_learner(data, models.resnet50, metrics = [error_rate, accuracy],\n",
    "                   callback_fns=[ShowGraph])\n",
    "\n",
    "learn.loss_func=nn.CrossEntropyLoss(weight=class_weights)\n"
   ]
  },
  {
   "cell_type": "code",
   "execution_count": 60,
   "metadata": {},
   "outputs": [
    {
     "data": {
      "text/html": [],
      "text/plain": [
       "<IPython.core.display.HTML object>"
      ]
     },
     "metadata": {},
     "output_type": "display_data"
    },
    {
     "name": "stdout",
     "output_type": "stream",
     "text": [
      "LR Finder is complete, type {learner_name}.recorder.plot() to see the graph.\n"
     ]
    },
    {
     "data": {
      "image/png": "[encoded data removed]",
      "text/plain": [
       "<Figure size 432x288 with 1 Axes>"
      ]
     },
     "metadata": {
      "needs_background": "light"
     },
     "output_type": "display_data"
    }
   ],
   "source": [
    "#Learn rate finder\n",
    "learn.lr_find()\n",
    "learn.recorder.plot()"
   ]
  },
  {
   "cell_type": "code",
   "execution_count": 61,
   "metadata": {},
   "outputs": [
    {
     "data": {
      "text/html": [
       "Total time: 02:53 <p><table style='width:450px; margin-bottom:10px'>\n",
       "  <tr>\n",
       "    <th>epoch</th>\n",
       "    <th>train_loss</th>\n",
       "    <th>valid_loss</th>\n",
       "    <th>error_rate</th>\n",
       "    <th>accuracy</th>\n",
       "    <th>time</th>\n",
       "  </tr>\n",
       "  <tr>\n",
       "    <th>0</th>\n",
       "    <th>1.492628</th>\n",
       "    <th>2.018486</th>\n",
       "    <th>0.601140</th>\n",
       "    <th>0.398860</th>\n",
       "    <th>00:42</th>\n",
       "  </tr>\n",
       "  <tr>\n",
       "    <th>1</th>\n",
       "    <th>1.048403</th>\n",
       "    <th>1.989057</th>\n",
       "    <th>0.617013</th>\n",
       "    <th>0.382987</th>\n",
       "    <th>00:43</th>\n",
       "  </tr>\n",
       "  <tr>\n",
       "    <th>2</th>\n",
       "    <th>0.812597</th>\n",
       "    <th>1.555402</th>\n",
       "    <th>0.549451</th>\n",
       "    <th>0.450549</th>\n",
       "    <th>00:44</th>\n",
       "  </tr>\n",
       "  <tr>\n",
       "    <th>3</th>\n",
       "    <th>0.671437</th>\n",
       "    <th>1.738290</th>\n",
       "    <th>0.575092</th>\n",
       "    <th>0.424908</th>\n",
       "    <th>00:42</th>\n",
       "  </tr>\n",
       "</table>\n"
      ],
      "text/plain": [
       "<IPython.core.display.HTML object>"
      ]
     },
     "metadata": {},
     "output_type": "display_data"
    },
    {
     "data": {
      "image/png": "[encoded data removed]",
      "text/plain": [
       "<Figure size 432x288 with 1 Axes>"
      ]
     },
     "metadata": {},
     "output_type": "display_data"
    },
    {
     "name": "stdout",
     "output_type": "stream",
     "text": [
      "Better model found at epoch 0 with accuracy value: 0.3988603949546814.\n",
      "Better model found at epoch 2 with accuracy value: 0.450549453496933.\n"
     ]
    }
   ],
   "source": [
    "#Fit heads\n",
    "learn.clip_grad(1.0);\n",
    "lr = 1e-3\n",
    "learn.fit_one_cycle(epochs_head,  max_lr = lr, \n",
    "                    callbacks=[SaveModelCallback(learn, monitor='accuracy',\n",
    "                                                 mode='max', name='Best_model_sz224_resnet50_fold4')])"
   ]
  },
  {
   "cell_type": "code",
   "execution_count": 62,
   "metadata": {},
   "outputs": [],
   "source": [
    "learn.load('Best_model_sz224_resnet50_fold4')\n",
    "\n",
    "learn.unfreeze()"
   ]
  },
  {
   "cell_type": "code",
   "execution_count": 63,
   "metadata": {},
   "outputs": [
    {
     "data": {
      "text/html": [],
      "text/plain": [
       "<IPython.core.display.HTML object>"
      ]
     },
     "metadata": {},
     "output_type": "display_data"
    },
    {
     "name": "stdout",
     "output_type": "stream",
     "text": [
      "LR Finder is complete, type {learner_name}.recorder.plot() to see the graph.\n"
     ]
    },
    {
     "data": {
      "image/png": "[encoded data removed]",
      "text/plain": [
       "<Figure size 432x288 with 1 Axes>"
      ]
     },
     "metadata": {
      "needs_background": "light"
     },
     "output_type": "display_data"
    }
   ],
   "source": [
    "#Learn rate finder\n",
    "learn.lr_find()\n",
    "learn.recorder.plot()"
   ]
  },
  {
   "cell_type": "code",
   "execution_count": 64,
   "metadata": {},
   "outputs": [
    {
     "data": {
      "text/html": [
       "Total time: 14:11 <p><table style='width:450px; margin-bottom:10px'>\n",
       "  <tr>\n",
       "    <th>epoch</th>\n",
       "    <th>train_loss</th>\n",
       "    <th>valid_loss</th>\n",
       "    <th>error_rate</th>\n",
       "    <th>accuracy</th>\n",
       "    <th>time</th>\n",
       "  </tr>\n",
       "  <tr>\n",
       "    <th>0</th>\n",
       "    <th>0.710640</th>\n",
       "    <th>1.562170</th>\n",
       "    <th>0.549451</th>\n",
       "    <th>0.450549</th>\n",
       "    <th>00:55</th>\n",
       "  </tr>\n",
       "  <tr>\n",
       "    <th>1</th>\n",
       "    <th>0.686482</th>\n",
       "    <th>1.628219</th>\n",
       "    <th>0.543753</th>\n",
       "    <th>0.456247</th>\n",
       "    <th>00:56</th>\n",
       "  </tr>\n",
       "  <tr>\n",
       "    <th>2</th>\n",
       "    <th>0.660732</th>\n",
       "    <th>1.805500</th>\n",
       "    <th>0.584860</th>\n",
       "    <th>0.415140</th>\n",
       "    <th>00:56</th>\n",
       "  </tr>\n",
       "  <tr>\n",
       "    <th>3</th>\n",
       "    <th>0.593029</th>\n",
       "    <th>1.581686</th>\n",
       "    <th>0.511193</th>\n",
       "    <th>0.488807</th>\n",
       "    <th>00:56</th>\n",
       "  </tr>\n",
       "  <tr>\n",
       "    <th>4</th>\n",
       "    <th>0.530795</th>\n",
       "    <th>1.492337</th>\n",
       "    <th>0.526659</th>\n",
       "    <th>0.473341</th>\n",
       "    <th>00:56</th>\n",
       "  </tr>\n",
       "  <tr>\n",
       "    <th>5</th>\n",
       "    <th>0.431930</th>\n",
       "    <th>1.691596</th>\n",
       "    <th>0.541311</th>\n",
       "    <th>0.458689</th>\n",
       "    <th>00:57</th>\n",
       "  </tr>\n",
       "  <tr>\n",
       "    <th>6</th>\n",
       "    <th>0.413762</th>\n",
       "    <th>1.521912</th>\n",
       "    <th>0.483109</th>\n",
       "    <th>0.516891</th>\n",
       "    <th>00:55</th>\n",
       "  </tr>\n",
       "  <tr>\n",
       "    <th>7</th>\n",
       "    <th>0.400882</th>\n",
       "    <th>1.838967</th>\n",
       "    <th>0.516077</th>\n",
       "    <th>0.483923</th>\n",
       "    <th>00:56</th>\n",
       "  </tr>\n",
       "  <tr>\n",
       "    <th>8</th>\n",
       "    <th>0.317534</th>\n",
       "    <th>1.374171</th>\n",
       "    <th>0.442409</th>\n",
       "    <th>0.557591</th>\n",
       "    <th>00:56</th>\n",
       "  </tr>\n",
       "  <tr>\n",
       "    <th>9</th>\n",
       "    <th>0.270573</th>\n",
       "    <th>1.484009</th>\n",
       "    <th>0.455026</th>\n",
       "    <th>0.544974</th>\n",
       "    <th>00:57</th>\n",
       "  </tr>\n",
       "  <tr>\n",
       "    <th>10</th>\n",
       "    <th>0.223583</th>\n",
       "    <th>1.250241</th>\n",
       "    <th>0.400081</th>\n",
       "    <th>0.599919</th>\n",
       "    <th>00:56</th>\n",
       "  </tr>\n",
       "  <tr>\n",
       "    <th>11</th>\n",
       "    <th>0.215717</th>\n",
       "    <th>1.371741</th>\n",
       "    <th>0.428978</th>\n",
       "    <th>0.571022</th>\n",
       "    <th>00:56</th>\n",
       "  </tr>\n",
       "  <tr>\n",
       "    <th>12</th>\n",
       "    <th>0.189399</th>\n",
       "    <th>1.302813</th>\n",
       "    <th>0.397639</th>\n",
       "    <th>0.602361</th>\n",
       "    <th>00:56</th>\n",
       "  </tr>\n",
       "  <tr>\n",
       "    <th>13</th>\n",
       "    <th>0.192204</th>\n",
       "    <th>1.514861</th>\n",
       "    <th>0.438339</th>\n",
       "    <th>0.561661</th>\n",
       "    <th>00:55</th>\n",
       "  </tr>\n",
       "  <tr>\n",
       "    <th>14</th>\n",
       "    <th>0.184456</th>\n",
       "    <th>1.332400</th>\n",
       "    <th>0.407814</th>\n",
       "    <th>0.592186</th>\n",
       "    <th>00:56</th>\n",
       "  </tr>\n",
       "</table>\n"
      ],
      "text/plain": [
       "<IPython.core.display.HTML object>"
      ]
     },
     "metadata": {},
     "output_type": "display_data"
    },
    {
     "data": {
      "image/png": "[encoded data removed]",
      "text/plain": [
       "<Figure size 432x288 with 1 Axes>"
      ]
     },
     "metadata": {},
     "output_type": "display_data"
    },
    {
     "name": "stdout",
     "output_type": "stream",
     "text": [
      "Better model found at epoch 0 with accuracy value: 0.450549453496933.\n",
      "Better model found at epoch 1 with accuracy value: 0.4562474489212036.\n",
      "Better model found at epoch 3 with accuracy value: 0.4888074994087219.\n",
      "Better model found at epoch 6 with accuracy value: 0.5168905258178711.\n",
      "Better model found at epoch 8 with accuracy value: 0.5575905442237854.\n",
      "Better model found at epoch 10 with accuracy value: 0.5999186038970947.\n",
      "Better model found at epoch 12 with accuracy value: 0.6023606061935425.\n"
     ]
    }
   ],
   "source": [
    "learn.fit_one_cycle(epochs_all, max_lr = slice(1e-5, 1e-4), wd=0.05, \n",
    "                    callbacks=[SaveModelCallback(learn, monitor='accuracy',\n",
    "                                                 mode='max', name='Best_model_sz224_stage2_resnet50_fold4'),\n",
    "                              ReduceLROnPlateauCallback(learn, monitor='accuracy', mode='max', patience = patience)])\n"
   ]
  },
  {
   "cell_type": "code",
   "execution_count": 65,
   "metadata": {},
   "outputs": [
    {
     "name": "stdout",
     "output_type": "stream",
     "text": [
      "2457\n"
     ]
    },
    {
     "data": {
      "text/plain": [
       "True"
      ]
     },
     "execution_count": 65,
     "metadata": {},
     "output_type": "execute_result"
    }
   ],
   "source": [
    "learn.load('Best_model_sz224_stage2_resnet50_fold4')\n",
    "\n",
    "interp4 = ClassificationInterpretation.from_learner(learn)\n",
    "print(interp4.confusion_matrix().sum())\n",
    "\n",
    "losses,idxs = interp4.top_losses()\n",
    "len(data.valid_ds)==len(losses)==len(idxs)\n",
    "\n",
    "\n"
   ]
  },
  {
   "cell_type": "code",
   "execution_count": 66,
   "metadata": {},
   "outputs": [
    {
     "data": {
      "text/plain": [
       "0.7053206236926929"
      ]
     },
     "execution_count": 66,
     "metadata": {},
     "output_type": "execute_result"
    }
   ],
   "source": [
    "confusion_matrix4 = interp4.confusion_matrix()\n",
    "\n",
    "\n",
    "FP = confusion_matrix4.sum(axis=0) - np.diag(confusion_matrix4)  \n",
    "FN = confusion_matrix4.sum(axis=1) - np.diag(confusion_matrix4)\n",
    "TP = np.diag(confusion_matrix4)\n",
    "TN = confusion_matrix4.sum() - (FP + FN + TP)\n",
    "\n",
    "# Sensitivity, hit rate, recall, or true positive rate\n",
    "TPR = TP/(TP+FN)\n",
    "\n",
    "TPR.mean()"
   ]
  },
  {
   "cell_type": "code",
   "execution_count": 67,
   "metadata": {},
   "outputs": [
    {
     "data": {
      "text/html": [
       "Total time: 00:58 <p>"
      ],
      "text/plain": [
       "<IPython.core.display.HTML object>"
      ]
     },
     "metadata": {},
     "output_type": "display_data"
    },
    {
     "data": {
      "text/plain": [
       "0.7151314019463104"
      ]
     },
     "execution_count": 67,
     "metadata": {},
     "output_type": "execute_result"
    }
   ],
   "source": [
    "interp4_tta = ClassificationInterpretation.from_learner(learn, tta=True)\n",
    "confusion_matrix4_tta = interp4_tta.confusion_matrix()\n",
    "\n",
    "\n",
    "FP = confusion_matrix4_tta.sum(axis=0) - np.diag(confusion_matrix4_tta)  \n",
    "FN = confusion_matrix4_tta.sum(axis=1) - np.diag(confusion_matrix4_tta)\n",
    "TP = np.diag(confusion_matrix4_tta)\n",
    "TN = confusion_matrix4_tta.sum() - (FP + FN + TP)\n",
    "\n",
    "# Sensitivity, hit rate, recall, or true positive rate\n",
    "TPR = TP/(TP+FN)\n",
    "\n",
    "TPR.mean()"
   ]
  },
  {
   "cell_type": "markdown",
   "metadata": {},
   "source": [
    "# Fold 5"
   ]
  },
  {
   "cell_type": "code",
   "execution_count": 68,
   "metadata": {},
   "outputs": [
    {
     "name": "stdout",
     "output_type": "stream",
     "text": [
      "this Learner object self-destroyed - it still exists, but no longer usable\n"
     ]
    }
   ],
   "source": [
    "gc.collect()\n",
    "learn.destroy()\n",
    "seed_everything(SEED)\n",
    "bs = 32\n",
    "data = get_data(metadata_train_valid5, bs, 224)\n",
    "\n",
    "#Define Convolutional Neural Network with backbone resnet50\n",
    "learn = cnn_learner(data, models.resnet50, metrics = [error_rate, accuracy],\n",
    "                   callback_fns=[ShowGraph])\n",
    "\n",
    "learn.loss_func=nn.CrossEntropyLoss(weight=class_weights)\n"
   ]
  },
  {
   "cell_type": "code",
   "execution_count": 69,
   "metadata": {},
   "outputs": [
    {
     "data": {
      "text/html": [],
      "text/plain": [
       "<IPython.core.display.HTML object>"
      ]
     },
     "metadata": {},
     "output_type": "display_data"
    },
    {
     "name": "stdout",
     "output_type": "stream",
     "text": [
      "LR Finder is complete, type {learner_name}.recorder.plot() to see the graph.\n"
     ]
    },
    {
     "data": {
      "image/png": "[encoded data removed]",
      "text/plain": [
       "<Figure size 432x288 with 1 Axes>"
      ]
     },
     "metadata": {
      "needs_background": "light"
     },
     "output_type": "display_data"
    }
   ],
   "source": [
    "#Learn rate finder\n",
    "learn.lr_find()\n",
    "learn.recorder.plot()"
   ]
  },
  {
   "cell_type": "code",
   "execution_count": 70,
   "metadata": {},
   "outputs": [
    {
     "data": {
      "text/html": [
       "Total time: 02:58 <p><table style='width:450px; margin-bottom:10px'>\n",
       "  <tr>\n",
       "    <th>epoch</th>\n",
       "    <th>train_loss</th>\n",
       "    <th>valid_loss</th>\n",
       "    <th>error_rate</th>\n",
       "    <th>accuracy</th>\n",
       "    <th>time</th>\n",
       "  </tr>\n",
       "  <tr>\n",
       "    <th>0</th>\n",
       "    <th>1.493403</th>\n",
       "    <th>3.474834</th>\n",
       "    <th>0.797254</th>\n",
       "    <th>0.202746</th>\n",
       "    <th>00:44</th>\n",
       "  </tr>\n",
       "  <tr>\n",
       "    <th>1</th>\n",
       "    <th>1.032310</th>\n",
       "    <th>2.029426</th>\n",
       "    <th>0.714874</th>\n",
       "    <th>0.285126</th>\n",
       "    <th>00:43</th>\n",
       "  </tr>\n",
       "  <tr>\n",
       "    <th>2</th>\n",
       "    <th>0.834895</th>\n",
       "    <th>2.003390</th>\n",
       "    <th>0.669565</th>\n",
       "    <th>0.330435</th>\n",
       "    <th>00:45</th>\n",
       "  </tr>\n",
       "  <tr>\n",
       "    <th>3</th>\n",
       "    <th>0.613229</th>\n",
       "    <th>1.923828</th>\n",
       "    <th>0.672311</th>\n",
       "    <th>0.327689</th>\n",
       "    <th>00:43</th>\n",
       "  </tr>\n",
       "</table>\n"
      ],
      "text/plain": [
       "<IPython.core.display.HTML object>"
      ]
     },
     "metadata": {},
     "output_type": "display_data"
    },
    {
     "data": {
      "image/png": "[encoded data removed]",
      "text/plain": [
       "<Figure size 432x288 with 1 Axes>"
      ]
     },
     "metadata": {},
     "output_type": "display_data"
    },
    {
     "name": "stdout",
     "output_type": "stream",
     "text": [
      "Better model found at epoch 0 with accuracy value: 0.20274598896503448.\n",
      "Better model found at epoch 1 with accuracy value: 0.28512585163116455.\n",
      "Better model found at epoch 2 with accuracy value: 0.33043476939201355.\n"
     ]
    }
   ],
   "source": [
    "#Fit heads\n",
    "learn.clip_grad(1.0);\n",
    "lr = 1e-3\n",
    "learn.fit_one_cycle(epochs_head, wd=0.05, max_lr = lr, \n",
    "                    callbacks=[SaveModelCallback(learn, monitor='accuracy',\n",
    "                                                 mode='max', name='Best_model_sz224_resnet50_fold5')])\n"
   ]
  },
  {
   "cell_type": "code",
   "execution_count": 71,
   "metadata": {},
   "outputs": [],
   "source": [
    "learn.load('Best_model_sz224_resnet50_fold5')\n",
    "\n",
    "learn.unfreeze()"
   ]
  },
  {
   "cell_type": "code",
   "execution_count": 72,
   "metadata": {},
   "outputs": [
    {
     "data": {
      "text/html": [],
      "text/plain": [
       "<IPython.core.display.HTML object>"
      ]
     },
     "metadata": {},
     "output_type": "display_data"
    },
    {
     "name": "stdout",
     "output_type": "stream",
     "text": [
      "LR Finder is complete, type {learner_name}.recorder.plot() to see the graph.\n"
     ]
    },
    {
     "data": {
      "image/png": "[encoded data removed]",
      "text/plain": [
       "<Figure size 432x288 with 1 Axes>"
      ]
     },
     "metadata": {
      "needs_background": "light"
     },
     "output_type": "display_data"
    }
   ],
   "source": [
    "#Learn rate finder\n",
    "learn.lr_find()\n",
    "learn.recorder.plot()"
   ]
  },
  {
   "cell_type": "code",
   "execution_count": 73,
   "metadata": {},
   "outputs": [
    {
     "data": {
      "text/html": [
       "Total time: 14:42 <p><table style='width:450px; margin-bottom:10px'>\n",
       "  <tr>\n",
       "    <th>epoch</th>\n",
       "    <th>train_loss</th>\n",
       "    <th>valid_loss</th>\n",
       "    <th>error_rate</th>\n",
       "    <th>accuracy</th>\n",
       "    <th>time</th>\n",
       "  </tr>\n",
       "  <tr>\n",
       "    <th>0</th>\n",
       "    <th>0.599751</th>\n",
       "    <th>1.898071</th>\n",
       "    <th>0.660412</th>\n",
       "    <th>0.339588</th>\n",
       "    <th>00:56</th>\n",
       "  </tr>\n",
       "  <tr>\n",
       "    <th>1</th>\n",
       "    <th>0.612804</th>\n",
       "    <th>1.914753</th>\n",
       "    <th>0.674600</th>\n",
       "    <th>0.325400</th>\n",
       "    <th>00:57</th>\n",
       "  </tr>\n",
       "  <tr>\n",
       "    <th>2</th>\n",
       "    <th>0.624066</th>\n",
       "    <th>2.138207</th>\n",
       "    <th>0.686499</th>\n",
       "    <th>0.313501</th>\n",
       "    <th>00:57</th>\n",
       "  </tr>\n",
       "  <tr>\n",
       "    <th>3</th>\n",
       "    <th>0.551573</th>\n",
       "    <th>2.306092</th>\n",
       "    <th>0.729062</th>\n",
       "    <th>0.270938</th>\n",
       "    <th>00:58</th>\n",
       "  </tr>\n",
       "  <tr>\n",
       "    <th>4</th>\n",
       "    <th>0.522837</th>\n",
       "    <th>2.133091</th>\n",
       "    <th>0.640275</th>\n",
       "    <th>0.359725</th>\n",
       "    <th>00:58</th>\n",
       "  </tr>\n",
       "  <tr>\n",
       "    <th>5</th>\n",
       "    <th>0.446836</th>\n",
       "    <th>1.879109</th>\n",
       "    <th>0.613730</th>\n",
       "    <th>0.386270</th>\n",
       "    <th>00:57</th>\n",
       "  </tr>\n",
       "  <tr>\n",
       "    <th>6</th>\n",
       "    <th>0.376646</th>\n",
       "    <th>2.046531</th>\n",
       "    <th>0.620137</th>\n",
       "    <th>0.379863</th>\n",
       "    <th>00:57</th>\n",
       "  </tr>\n",
       "  <tr>\n",
       "    <th>7</th>\n",
       "    <th>0.354499</th>\n",
       "    <th>2.168431</th>\n",
       "    <th>0.653089</th>\n",
       "    <th>0.346911</th>\n",
       "    <th>00:57</th>\n",
       "  </tr>\n",
       "  <tr>\n",
       "    <th>8</th>\n",
       "    <th>0.312210</th>\n",
       "    <th>1.944573</th>\n",
       "    <th>0.591304</th>\n",
       "    <th>0.408696</th>\n",
       "    <th>00:58</th>\n",
       "  </tr>\n",
       "  <tr>\n",
       "    <th>9</th>\n",
       "    <th>0.247157</th>\n",
       "    <th>1.918137</th>\n",
       "    <th>0.554691</th>\n",
       "    <th>0.445309</th>\n",
       "    <th>00:57</th>\n",
       "  </tr>\n",
       "  <tr>\n",
       "    <th>10</th>\n",
       "    <th>0.206232</th>\n",
       "    <th>1.909455</th>\n",
       "    <th>0.560641</th>\n",
       "    <th>0.439359</th>\n",
       "    <th>00:59</th>\n",
       "  </tr>\n",
       "  <tr>\n",
       "    <th>11</th>\n",
       "    <th>0.202486</th>\n",
       "    <th>2.022898</th>\n",
       "    <th>0.547368</th>\n",
       "    <th>0.452632</th>\n",
       "    <th>01:01</th>\n",
       "  </tr>\n",
       "  <tr>\n",
       "    <th>12</th>\n",
       "    <th>0.182351</th>\n",
       "    <th>1.976655</th>\n",
       "    <th>0.544622</th>\n",
       "    <th>0.455378</th>\n",
       "    <th>01:02</th>\n",
       "  </tr>\n",
       "  <tr>\n",
       "    <th>13</th>\n",
       "    <th>0.159520</th>\n",
       "    <th>1.815552</th>\n",
       "    <th>0.513501</th>\n",
       "    <th>0.486499</th>\n",
       "    <th>00:58</th>\n",
       "  </tr>\n",
       "  <tr>\n",
       "    <th>14</th>\n",
       "    <th>0.164680</th>\n",
       "    <th>1.998900</th>\n",
       "    <th>0.551030</th>\n",
       "    <th>0.448970</th>\n",
       "    <th>00:58</th>\n",
       "  </tr>\n",
       "</table>\n"
      ],
      "text/plain": [
       "<IPython.core.display.HTML object>"
      ]
     },
     "metadata": {},
     "output_type": "display_data"
    },
    {
     "data": {
      "image/png": "[encoded data removed]",
      "text/plain": [
       "<Figure size 432x288 with 1 Axes>"
      ]
     },
     "metadata": {},
     "output_type": "display_data"
    },
    {
     "name": "stdout",
     "output_type": "stream",
     "text": [
      "Better model found at epoch 0 with accuracy value: 0.33958810567855835.\n",
      "Better model found at epoch 4 with accuracy value: 0.35972538590431213.\n",
      "Better model found at epoch 5 with accuracy value: 0.38627001643180847.\n",
      "Better model found at epoch 8 with accuracy value: 0.40869563817977905.\n",
      "Better model found at epoch 9 with accuracy value: 0.4453089237213135.\n",
      "Better model found at epoch 11 with accuracy value: 0.4526315927505493.\n",
      "Better model found at epoch 12 with accuracy value: 0.45537757873535156.\n",
      "Better model found at epoch 13 with accuracy value: 0.4864988625049591.\n"
     ]
    }
   ],
   "source": [
    "learn.fit_one_cycle(epochs_all, max_lr = slice(1e-5, 1e-4), wd=0.05, \n",
    "                    callbacks=[SaveModelCallback(learn, monitor='accuracy',\n",
    "                                                 mode='max', name='Best_model_sz224_stage2_resnet50_fold5'),\n",
    "                    ReduceLROnPlateauCallback(learn, monitor='accuracy', mode='max', patience = patience)])\n",
    "\n"
   ]
  },
  {
   "cell_type": "code",
   "execution_count": 74,
   "metadata": {},
   "outputs": [
    {
     "name": "stdout",
     "output_type": "stream",
     "text": [
      "2185\n"
     ]
    },
    {
     "data": {
      "text/plain": [
       "True"
      ]
     },
     "execution_count": 74,
     "metadata": {},
     "output_type": "execute_result"
    }
   ],
   "source": [
    "learn.load('Best_model_sz224_stage2_resnet50_fold5')\n",
    "\n",
    "interp5 = ClassificationInterpretation.from_learner(learn)\n",
    "print(interp5.confusion_matrix().sum())\n",
    "\n",
    "losses,idxs = interp5.top_losses()\n",
    "len(data.valid_ds)==len(losses)==len(idxs)"
   ]
  },
  {
   "cell_type": "code",
   "execution_count": 75,
   "metadata": {},
   "outputs": [
    {
     "data": {
      "text/plain": [
       "0.6755170098556844"
      ]
     },
     "execution_count": 75,
     "metadata": {},
     "output_type": "execute_result"
    }
   ],
   "source": [
    "confusion_matrix5 = interp5.confusion_matrix()\n",
    "\n",
    "\n",
    "FP = confusion_matrix5.sum(axis=0) - np.diag(confusion_matrix5)  \n",
    "FN = confusion_matrix5.sum(axis=1) - np.diag(confusion_matrix5)\n",
    "TP = np.diag(confusion_matrix5)\n",
    "TN = confusion_matrix5.sum() - (FP + FN + TP)\n",
    "\n",
    "# Sensitivity, hit rate, recall, or true positive rate\n",
    "TPR = TP/(TP+FN)\n",
    "\n",
    "\n",
    "TPR.mean()"
   ]
  },
  {
   "cell_type": "code",
   "execution_count": 76,
   "metadata": {},
   "outputs": [
    {
     "data": {
      "text/html": [
       "Total time: 00:51 <p>"
      ],
      "text/plain": [
       "<IPython.core.display.HTML object>"
      ]
     },
     "metadata": {},
     "output_type": "display_data"
    },
    {
     "data": {
      "text/plain": [
       "0.6691429111511357"
      ]
     },
     "execution_count": 76,
     "metadata": {},
     "output_type": "execute_result"
    }
   ],
   "source": [
    "interp5_tta = ClassificationInterpretation.from_learner(learn, tta=True)\n",
    "\n",
    "confusion_matrix5_tta = interp5_tta.confusion_matrix()\n",
    "\n",
    "\n",
    "FP = confusion_matrix5_tta.sum(axis=0) - np.diag(confusion_matrix5_tta)  \n",
    "FN = confusion_matrix5_tta.sum(axis=1) - np.diag(confusion_matrix5_tta)\n",
    "TP = np.diag(confusion_matrix5_tta)\n",
    "TN = confusion_matrix5_tta.sum() - (FP + FN + TP)\n",
    "\n",
    "# Sensitivity, hit rate, recall, or true positive rate\n",
    "TPR = TP/(TP+FN)\n",
    "\n",
    "\n",
    "TPR.mean()"
   ]
  },
  {
   "cell_type": "markdown",
   "metadata": {},
   "source": [
    "## Analysis of the Cross Validated Results"
   ]
  },
  {
   "cell_type": "markdown",
   "metadata": {},
   "source": [
    "We obtain a 66.8% balanced multiclass accuracy without augmentation and a 67.9% balanced multiclass accuracy using test time augmentation. Details of the other classification metrics are presented below."
   ]
  },
  {
   "cell_type": "code",
   "execution_count": 77,
   "metadata": {},
   "outputs": [],
   "source": [
    "confusion_matrix = confusion_matrix1 + confusion_matrix2 + confusion_matrix3 + confusion_matrix4 + confusion_matrix5"
   ]
  },
  {
   "cell_type": "code",
   "execution_count": 78,
   "metadata": {},
   "outputs": [],
   "source": [
    "confusion_matrix_TTA = confusion_matrix1_tta + confusion_matrix2_tta + confusion_matrix3_tta + confusion_matrix4_tta + confusion_matrix5_tta"
   ]
  },
  {
   "cell_type": "code",
   "execution_count": 79,
   "metadata": {},
   "outputs": [
    {
     "data": {
      "text/plain": [
       "array([[ 206,   29,   53,    9,   22,    8,    0],\n",
       "       [  37,  372,   37,   17,   22,   23,    6],\n",
       "       [  60,   24,  666,    2,  196,  147,    4],\n",
       "       [  12,    9,    9,   65,   11,    9,    0],\n",
       "       [  25,   14,  127,   16,  657,  266,    8],\n",
       "       [  35,  106,  445,   79, 1136, 4863,   41],\n",
       "       [   3,    4,    1,    0,    8,    7,  119]])"
      ]
     },
     "execution_count": 79,
     "metadata": {},
     "output_type": "execute_result"
    }
   ],
   "source": [
    "confusion_matrix"
   ]
  },
  {
   "cell_type": "code",
   "execution_count": 80,
   "metadata": {},
   "outputs": [
    {
     "data": {
      "text/plain": [
       "array([[ 229,   25,   40,    8,   17,    8,    0],\n",
       "       [  41,  388,   33,   12,   11,   20,    9],\n",
       "       [  77,   21,  669,    2,  167,  162,    1],\n",
       "       [  11,   10,    7,   65,   11,   11,    0],\n",
       "       [  38,    9,  131,   14,  616,  295,   10],\n",
       "       [  45,   98,  432,   37,  968, 5082,   43],\n",
       "       [   2,    6,    1,    0,   10,    7,  116]])"
      ]
     },
     "execution_count": 80,
     "metadata": {},
     "output_type": "execute_result"
    }
   ],
   "source": [
    "confusion_matrix_TTA"
   ]
  },
  {
   "cell_type": "code",
   "execution_count": 81,
   "metadata": {},
   "outputs": [
    {
     "data": {
      "text/plain": [
       "10015"
      ]
     },
     "execution_count": 81,
     "metadata": {},
     "output_type": "execute_result"
    }
   ],
   "source": [
    "confusion_matrix.sum()"
   ]
  },
  {
   "cell_type": "code",
   "execution_count": 82,
   "metadata": {},
   "outputs": [
    {
     "data": {
      "text/plain": [
       "10015"
      ]
     },
     "execution_count": 82,
     "metadata": {},
     "output_type": "execute_result"
    }
   ],
   "source": [
    "confusion_matrix_TTA.sum()"
   ]
  },
  {
   "cell_type": "code",
   "execution_count": 83,
   "metadata": {},
   "outputs": [
    {
     "name": "stdout",
     "output_type": "stream",
     "text": [
      "True Positive Rate          [0.629969 0.723735 0.606005 0.565217 0.590296 0.72528  0.838028]\n",
      "True Negative Rate          [0.982246 0.980423 0.92463  0.987576 0.843294 0.861027 0.994024]\n",
      "Positive Predictive Value   [0.544974 0.666667 0.497758 0.345745 0.320175 0.913583 0.668539]\n",
      "Negative Predictive Value   [0.987444 0.984985 0.950098 0.994912 0.942735 0.607417 0.997662]\n",
      "False Positive Rate         [0.017754 0.019577 0.07537  0.012424 0.156706 0.138973 0.005976]\n",
      "False Negative Rate         [0.370031 0.276265 0.393995 0.434783 0.409704 0.27472  0.161972]\n",
      "False Discovery Rate        [0.455026 0.333333 0.502242 0.654255 0.679825 0.086417 0.331461]\n",
      "Accuracy                    [0.970744 0.967249 0.889666 0.982726 0.815177 0.770145 0.991812]\n"
     ]
    }
   ],
   "source": [
    "\n",
    "#https://stackoverflow.com/questions/31324218/scikit-learn-how-to-obtain-true-positive-true-negative-false-positive-and-fal\n",
    "\n",
    "FP = confusion_matrix.sum(axis=0) - np.diag(confusion_matrix)  \n",
    "FN = confusion_matrix.sum(axis=1) - np.diag(confusion_matrix)\n",
    "TP = np.diag(confusion_matrix)\n",
    "TN = confusion_matrix.sum() - (FP + FN + TP)\n",
    "\n",
    "# Sensitivity, hit rate, recall, or true positive rate\n",
    "TPR = TP/(TP+FN)\n",
    "# Specificity or true negative rate\n",
    "TNR = TN/(TN+FP) \n",
    "# Precision or positive predictive value\n",
    "PPV = TP/(TP+FP)\n",
    "# Negative predictive value\n",
    "NPV = TN/(TN+FN)\n",
    "# Fall out or false positive rate\n",
    "FPR = FP/(FP+TN)\n",
    "# False negative rate\n",
    "FNR = FN/(TP+FN)\n",
    "# False discovery rate\n",
    "FDR = FP/(TP+FP)\n",
    "\n",
    "# Overall accuracy\n",
    "ACC = (TP+TN)/(TP+FP+FN+TN)\n",
    "\n",
    "\n",
    "print(\"True Positive Rate         \", TPR)\n",
    "print(\"True Negative Rate         \", TNR)\n",
    "print(\"Positive Predictive Value  \", PPV)\n",
    "print(\"Negative Predictive Value  \", NPV)\n",
    "print(\"False Positive Rate        \", FPR)\n",
    "print(\"False Negative Rate        \", FNR)\n",
    "print(\"False Discovery Rate       \", FDR)\n",
    "print(\"Accuracy                   \", ACC)"
   ]
  },
  {
   "cell_type": "code",
   "execution_count": 84,
   "metadata": {},
   "outputs": [
    {
     "data": {
      "text/plain": [
       "0.6683617121946673"
      ]
     },
     "execution_count": 84,
     "metadata": {},
     "output_type": "execute_result"
    }
   ],
   "source": [
    "TPR.mean() #without augmentation"
   ]
  },
  {
   "cell_type": "code",
   "execution_count": 85,
   "metadata": {},
   "outputs": [
    {
     "data": {
      "text/plain": [
       "0.9390313951117332"
      ]
     },
     "execution_count": 85,
     "metadata": {},
     "output_type": "execute_result"
    }
   ],
   "source": [
    "TNR.mean()"
   ]
  },
  {
   "cell_type": "code",
   "execution_count": 86,
   "metadata": {},
   "outputs": [
    {
     "name": "stdout",
     "output_type": "stream",
     "text": [
      "True Positive Rate          [0.700306 0.754864 0.608735 0.565217 0.553459 0.757942 0.816901]\n",
      "True Negative Rate          [0.977911 0.982212 0.92777  0.992626 0.866996 0.848036 0.993619]\n",
      "Positive Predictive Value   [0.51693  0.696589 0.50952  0.471014 0.342222 0.909937 0.648045]\n",
      "Negative Predictive Value   [0.989762 0.986678 0.950586 0.994938 0.939501 0.633634 0.997357]\n",
      "False Positive Rate         [0.022089 0.017788 0.07223  0.007374 0.133004 0.151964 0.006381]\n",
      "False Negative Rate         [0.299694 0.245136 0.391265 0.434783 0.446541 0.242058 0.183099]\n",
      "False Discovery Rate        [0.48307  0.303411 0.49048  0.528986 0.657778 0.090063 0.351955]\n",
      "Accuracy                    [0.968847 0.970544 0.892761 0.987718 0.832152 0.787718 0.991113]\n"
     ]
    }
   ],
   "source": [
    "FP = confusion_matrix_TTA.sum(axis=0) - np.diag(confusion_matrix_TTA)  \n",
    "FN = confusion_matrix_TTA.sum(axis=1) - np.diag(confusion_matrix_TTA)\n",
    "TP = np.diag(confusion_matrix_TTA)\n",
    "TN = confusion_matrix_TTA.sum() - (FP + FN + TP)\n",
    "\n",
    "# Sensitivity, hit rate, recall, or true positive rate\n",
    "TPR = TP/(TP+FN)\n",
    "# Specificity or true negative rate\n",
    "TNR = TN/(TN+FP) \n",
    "# Precision or positive predictive value\n",
    "PPV = TP/(TP+FP)\n",
    "# Negative predictive value\n",
    "NPV = TN/(TN+FN)\n",
    "# Fall out or false positive rate\n",
    "FPR = FP/(FP+TN)\n",
    "# False negative rate\n",
    "FNR = FN/(TP+FN)\n",
    "# False discovery rate\n",
    "FDR = FP/(TP+FP)\n",
    "\n",
    "# Overall accuracy\n",
    "ACC = (TP+TN)/(TP+FP+FN+TN)\n",
    "\n",
    "\n",
    "print(\"True Positive Rate         \", TPR)\n",
    "print(\"True Negative Rate         \", TNR)\n",
    "print(\"Positive Predictive Value  \", PPV)\n",
    "print(\"Negative Predictive Value  \", NPV)\n",
    "print(\"False Positive Rate        \", FPR)\n",
    "print(\"False Negative Rate        \", FNR)\n",
    "print(\"False Discovery Rate       \", FDR)\n",
    "print(\"Accuracy                   \", ACC)"
   ]
  },
  {
   "cell_type": "code",
   "execution_count": 87,
   "metadata": {},
   "outputs": [
    {
     "data": {
      "text/plain": [
       "0.67963208445167"
      ]
     },
     "execution_count": 87,
     "metadata": {},
     "output_type": "execute_result"
    }
   ],
   "source": [
    "TPR.mean() # with test time augmentation"
   ]
  },
  {
   "cell_type": "code",
   "execution_count": 88,
   "metadata": {},
   "outputs": [
    {
     "data": {
      "text/plain": [
       "0.9413101678032485"
      ]
     },
     "execution_count": 88,
     "metadata": {},
     "output_type": "execute_result"
    }
   ],
   "source": [
    "TNR.mean()"
   ]
  },
  {
   "cell_type": "markdown",
   "metadata": {},
   "source": [
    "## Limitations\n",
    "\n",
    "\n",
    "The test data from the ISIC 2018 is not available. Althought we are confident that our cross-validation strategy is reliable, we are not able to submit the results to the competition and get a leaderboard standing.\n",
    "\n",
    "We only have one GPU NVIDIA 2080 with memory size of 8GB. The use of multiple GPUs can speed the training process and increase accuracy by processing a larger batch size.\n",
    "\n",
    "We have made all efforts to make the training process as deterministic as possible using the seed_everything function. However, training of CNN still carries a stochastic component, and the results may be replicated but not identically. \n",
    "\n",
    "There is great variability in the results for each one of the folds, with validation scores ranging from 62% to 79%. This may suggest that the weighted cross-entropy metric that we optimized may not be very stable, and other optimization metrics that focus on the detection of rare events, such as focal loss may be more beneficial for the training of the neural network."
   ]
  },
  {
   "cell_type": "markdown",
   "metadata": {},
   "source": [
    "## Conclussions\n",
    "\n",
    "Computer vision algorithms have enormous potential in healthcare applications. This jupyter notebook illustrates the process of training a CNN model to model a dermatological dataset of seven skin conditions. Several other applications of this methodology have the potential to improve diagnosis accuracy and reduce healthcare costs."
   ]
  },
  {
   "cell_type": "markdown",
   "metadata": {},
   "source": [
    "## References\n",
    "\n",
    "[1] Tschandl, P., Rosendahl, C. & Kittler, H. The HAM10000 dataset, a large collection of multi-source \n",
    "dermatoscopic images of common pigmented skin lesions. Sci. Data 5, 180161 (2018). \n",
    "doi: 10.1038/sdata.2018.161 \n",
    "\n",
    "[2] He, Kaiming et al. Deep Residual Learning for Image Recognition. Microsoft Research. https://arxiv.org/abs/1512.03385v1\n",
    "\n",
    "[3] ISIC 2018 challenge Task 3: Lesion Diagnosis https://challenge2018.isic-archive.com/leaderboards/\n",
    "\n",
    "[4] Shang, Kailan. Applying Image Recognition to Insurance. Society of Actuaries. June 2018. https://www.soa.org/globalassets/assets/Files/resources/research-report/2018/applying-image-recognition.pdf\n",
    "\n",
    "[5] Pranav Rajpurkar, et al. CheXNet: Radiologist-Level Pneumonia Detection on Chest X-Rays with Deep Learning. https://arxiv.org/abs/1711.05225\n",
    "\n",
    "[6] Levy, Daniel, Jain, Arzav. Breast Mass Classification from Mammograms using Deep Convolutional Neural Networks. 2016. https://arxiv.org/abs/1612.00542\n",
    "\n",
    "[7] Esteva, Andre, et al. Dermatologist-level classification of skin cancer with deep neural networks. Nature volume 542, pages 115–118 (02 February 2017).\n",
    "\n",
    "[8] Howard, Jeremy and others, fastai, 2018,  publisher= GitHub, https://github.com/fastai/fastai\n",
    "\n"
   ]
  }
 ],
 "metadata": {
  "kernelspec": {
   "display_name": "fastAI custom",
   "language": "python",
   "name": "fastai"
  },
  "language_info": {
   "codemirror_mode": {
    "name": "ipython",
    "version": 3
   },
   "file_extension": ".py",
   "mimetype": "text/x-python",
   "name": "python",
   "nbconvert_exporter": "python",
   "pygments_lexer": "ipython3",
   "version": "3.7.0"
  },
  "latex_envs": {
   "LaTeX_envs_menu_present": true,
   "autoclose": false,
   "autocomplete": true,
   "bibliofile": "biblio.bib",
   "cite_by": "number",
   "current_citInitial": 1,
   "eqLabelWithNumbers": true,
   "eqNumInitial": 1,
   "hotkeys": {
    "equation": "Ctrl-E",
    "itemize": "Ctrl-I"
   },
   "labels_anchors": false,
   "latex_user_defs": false,
   "report_style_numbering": false,
   "user_envs_cfg": false
  },
  "toc": {
   "base_numbering": 1,
   "nav_menu": {},
   "number_sections": false,
   "sideBar": true,
   "skip_h1_title": false,
   "title_cell": "Table of Contents",
   "title_sidebar": "Contents",
   "toc_cell": false,
   "toc_position": {
    "height": "calc(100% - 180px)",
    "left": "10px",
    "top": "150px",
    "width": "291.883px"
   },
   "toc_section_display": true,
   "toc_window_display": true
  },
  "varInspector": {
   "cols": {
    "lenName": 16,
    "lenType": 16,
    "lenVar": 40
   },
   "kernels_config": {
    "python": {
     "delete_cmd_postfix": "",
     "delete_cmd_prefix": "del ",
     "library": "var_list.py",
     "varRefreshCmd": "print(var_dic_list())"
    },
    "r": {
     "delete_cmd_postfix": ") ",
     "delete_cmd_prefix": "rm(",
     "library": "var_list.r",
     "varRefreshCmd": "cat(var_dic_list()) "
    }
   },
   "types_to_exclude": [
    "module",
    "function",
    "builtin_function_or_method",
    "instance",
    "_Feature"
   ],
   "window_display": false
  }
 },
 "nbformat": 4,
 "nbformat_minor": 2
}
